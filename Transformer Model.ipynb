{
 "cells": [
  {
   "cell_type": "code",
   "execution_count": 2,
   "id": "2b9dd9ea-f352-492a-842d-0b6c1a21f492",
   "metadata": {},
   "outputs": [
    {
     "data": {
      "text/plain": [
       "device(type='cuda')"
      ]
     },
     "execution_count": 2,
     "metadata": {},
     "output_type": "execute_result"
    }
   ],
   "source": [
    "import numpy as np\n",
    "import pandas as pd\n",
    "import matplotlib.pyplot as plt\n",
    "from sklearn.model_selection import train_test_split\n",
    "\n",
    "import torch \n",
    "import torch.nn as nn\n",
    "from bpemb import BPEmb\n",
    "from torchsummary import summary\n",
    "from tqdm import tqdm\n",
    "device = torch.device('cuda' if torch.cuda.is_available() else 'cpu')\n",
    "device"
   ]
  },
  {
   "cell_type": "code",
   "execution_count": 3,
   "id": "0a537be8-3b64-43cf-962f-f28a8d261658",
   "metadata": {},
   "outputs": [
    {
     "data": {
      "text/html": [
       "<div>\n",
       "<style scoped>\n",
       "    .dataframe tbody tr th:only-of-type {\n",
       "        vertical-align: middle;\n",
       "    }\n",
       "\n",
       "    .dataframe tbody tr th {\n",
       "        vertical-align: top;\n",
       "    }\n",
       "\n",
       "    .dataframe thead th {\n",
       "        text-align: right;\n",
       "    }\n",
       "</style>\n",
       "<table border=\"1\" class=\"dataframe\">\n",
       "  <thead>\n",
       "    <tr style=\"text-align: right;\">\n",
       "      <th></th>\n",
       "      <th>hindi</th>\n",
       "      <th>english</th>\n",
       "    </tr>\n",
       "  </thead>\n",
       "  <tbody>\n",
       "    <tr>\n",
       "      <th>0</th>\n",
       "      <td>अपने अनुप्रयोग को पहुंचनीयता व्यायाम का लाभ दें</td>\n",
       "      <td>Give your application an accessibility workout</td>\n",
       "    </tr>\n",
       "    <tr>\n",
       "      <th>1</th>\n",
       "      <td>एक्सेर्साइसर पहुंचनीयता अन्वेषक</td>\n",
       "      <td>Accerciser Accessibility Explorer</td>\n",
       "    </tr>\n",
       "    <tr>\n",
       "      <th>2</th>\n",
       "      <td>निचले पटल के लिए डिफोल्ट प्लग-इन खाका</td>\n",
       "      <td>The default plugin layout for the bottom panel</td>\n",
       "    </tr>\n",
       "    <tr>\n",
       "      <th>3</th>\n",
       "      <td>ऊपरी पटल के लिए डिफोल्ट प्लग-इन खाका</td>\n",
       "      <td>The default plugin layout for the top panel</td>\n",
       "    </tr>\n",
       "    <tr>\n",
       "      <th>4</th>\n",
       "      <td>उन प्लग-इनों की सूची जिन्हें डिफोल्ट रूप से नि...</td>\n",
       "      <td>A list of plugins that are disabled by default</td>\n",
       "    </tr>\n",
       "    <tr>\n",
       "      <th>...</th>\n",
       "      <td>...</td>\n",
       "      <td>...</td>\n",
       "    </tr>\n",
       "    <tr>\n",
       "      <th>1561836</th>\n",
       "      <td>स्पष्टीकरण.–जहां इस उपधारा के अधीन हानि और लाभ...</td>\n",
       "      <td>स्पष्टीकरण.–जहां इस उपधारा के अधीन हानि और लाभ...</td>\n",
       "    </tr>\n",
       "    <tr>\n",
       "      <th>1561837</th>\n",
       "      <td>मैंने गौर किया है कि यह न केवल अपने महत्त्वपूर...</td>\n",
       "      <td>है। I note that this is a landmark meeting – n...</td>\n",
       "    </tr>\n",
       "    <tr>\n",
       "      <th>1561838</th>\n",
       "      <td>उन्होंने मेरे समक्ष जो प्रदर्शन किया उसमें से ...</td>\n",
       "      <td>है। In the presentations that they made before...</td>\n",
       "    </tr>\n",
       "    <tr>\n",
       "      <th>1561839</th>\n",
       "      <td>खाद्य और जल सुरक्षा; पर्यावरण की दृष्टि से वहन...</td>\n",
       "      <td>्त है। Issues such as food and water security;...</td>\n",
       "    </tr>\n",
       "    <tr>\n",
       "      <th>1561840</th>\n",
       "      <td>NaN</td>\n",
       "      <td>NaN</td>\n",
       "    </tr>\n",
       "  </tbody>\n",
       "</table>\n",
       "<p>1561841 rows × 2 columns</p>\n",
       "</div>"
      ],
      "text/plain": [
       "                                                     hindi  \\\n",
       "0          अपने अनुप्रयोग को पहुंचनीयता व्यायाम का लाभ दें   \n",
       "1                          एक्सेर्साइसर पहुंचनीयता अन्वेषक   \n",
       "2                    निचले पटल के लिए डिफोल्ट प्लग-इन खाका   \n",
       "3                     ऊपरी पटल के लिए डिफोल्ट प्लग-इन खाका   \n",
       "4        उन प्लग-इनों की सूची जिन्हें डिफोल्ट रूप से नि...   \n",
       "...                                                    ...   \n",
       "1561836  स्पष्टीकरण.–जहां इस उपधारा के अधीन हानि और लाभ...   \n",
       "1561837  मैंने गौर किया है कि यह न केवल अपने महत्त्वपूर...   \n",
       "1561838  उन्होंने मेरे समक्ष जो प्रदर्शन किया उसमें से ...   \n",
       "1561839  खाद्य और जल सुरक्षा; पर्यावरण की दृष्टि से वहन...   \n",
       "1561840                                                NaN   \n",
       "\n",
       "                                                   english  \n",
       "0           Give your application an accessibility workout  \n",
       "1                        Accerciser Accessibility Explorer  \n",
       "2           The default plugin layout for the bottom panel  \n",
       "3              The default plugin layout for the top panel  \n",
       "4           A list of plugins that are disabled by default  \n",
       "...                                                    ...  \n",
       "1561836  स्पष्टीकरण.–जहां इस उपधारा के अधीन हानि और लाभ...  \n",
       "1561837  है। I note that this is a landmark meeting – n...  \n",
       "1561838  है। In the presentations that they made before...  \n",
       "1561839  ्त है। Issues such as food and water security;...  \n",
       "1561840                                                NaN  \n",
       "\n",
       "[1561841 rows x 2 columns]"
      ]
     },
     "execution_count": 3,
     "metadata": {},
     "output_type": "execute_result"
    }
   ],
   "source": [
    "data = pd.read_csv(r\"C:\\Users\\doshi\\OneDrive\\Desktop\\hindi_english_parallel.csv\")\n",
    "data"
   ]
  },
  {
   "cell_type": "code",
   "execution_count": 4,
   "id": "974f443b-6fd1-4d00-82a3-04efde900aa8",
   "metadata": {},
   "outputs": [
    {
     "name": "stdout",
     "output_type": "stream",
     "text": [
      "<class 'pandas.core.frame.DataFrame'>\n",
      "Index: 1353877 entries, 0 to 1561839\n",
      "Data columns (total 2 columns):\n",
      " #   Column   Non-Null Count    Dtype \n",
      "---  ------   --------------    ----- \n",
      " 0   hindi    1353877 non-null  object\n",
      " 1   english  1353877 non-null  object\n",
      "dtypes: object(2)\n",
      "memory usage: 31.0+ MB\n"
     ]
    }
   ],
   "source": [
    "data.dropna(inplace=True)\n",
    "data.drop_duplicates(inplace=True)\n",
    "data.info()"
   ]
  },
  {
   "cell_type": "code",
   "execution_count": 5,
   "id": "b3568a53-18e9-48e9-8813-2f89f7a241bc",
   "metadata": {},
   "outputs": [
    {
     "data": {
      "text/html": [
       "<div>\n",
       "<style scoped>\n",
       "    .dataframe tbody tr th:only-of-type {\n",
       "        vertical-align: middle;\n",
       "    }\n",
       "\n",
       "    .dataframe tbody tr th {\n",
       "        vertical-align: top;\n",
       "    }\n",
       "\n",
       "    .dataframe thead th {\n",
       "        text-align: right;\n",
       "    }\n",
       "</style>\n",
       "<table border=\"1\" class=\"dataframe\">\n",
       "  <thead>\n",
       "    <tr style=\"text-align: right;\">\n",
       "      <th></th>\n",
       "      <th>hindi</th>\n",
       "      <th>english</th>\n",
       "      <th>english_len</th>\n",
       "      <th>hindi_len</th>\n",
       "    </tr>\n",
       "  </thead>\n",
       "  <tbody>\n",
       "    <tr>\n",
       "      <th>0</th>\n",
       "      <td>अपने अनुप्रयोग को पहुंचनीयता व्यायाम का लाभ दें</td>\n",
       "      <td>Give your application an accessibility workout</td>\n",
       "      <td>6</td>\n",
       "      <td>8</td>\n",
       "    </tr>\n",
       "    <tr>\n",
       "      <th>1</th>\n",
       "      <td>एक्सेर्साइसर पहुंचनीयता अन्वेषक</td>\n",
       "      <td>Accerciser Accessibility Explorer</td>\n",
       "      <td>3</td>\n",
       "      <td>3</td>\n",
       "    </tr>\n",
       "    <tr>\n",
       "      <th>2</th>\n",
       "      <td>निचले पटल के लिए डिफोल्ट प्लग-इन खाका</td>\n",
       "      <td>The default plugin layout for the bottom panel</td>\n",
       "      <td>8</td>\n",
       "      <td>7</td>\n",
       "    </tr>\n",
       "    <tr>\n",
       "      <th>3</th>\n",
       "      <td>ऊपरी पटल के लिए डिफोल्ट प्लग-इन खाका</td>\n",
       "      <td>The default plugin layout for the top panel</td>\n",
       "      <td>8</td>\n",
       "      <td>7</td>\n",
       "    </tr>\n",
       "    <tr>\n",
       "      <th>4</th>\n",
       "      <td>उन प्लग-इनों की सूची जिन्हें डिफोल्ट रूप से नि...</td>\n",
       "      <td>A list of plugins that are disabled by default</td>\n",
       "      <td>9</td>\n",
       "      <td>12</td>\n",
       "    </tr>\n",
       "  </tbody>\n",
       "</table>\n",
       "</div>"
      ],
      "text/plain": [
       "                                               hindi  \\\n",
       "0    अपने अनुप्रयोग को पहुंचनीयता व्यायाम का लाभ दें   \n",
       "1                    एक्सेर्साइसर पहुंचनीयता अन्वेषक   \n",
       "2              निचले पटल के लिए डिफोल्ट प्लग-इन खाका   \n",
       "3               ऊपरी पटल के लिए डिफोल्ट प्लग-इन खाका   \n",
       "4  उन प्लग-इनों की सूची जिन्हें डिफोल्ट रूप से नि...   \n",
       "\n",
       "                                          english  english_len  hindi_len  \n",
       "0  Give your application an accessibility workout            6          8  \n",
       "1               Accerciser Accessibility Explorer            3          3  \n",
       "2  The default plugin layout for the bottom panel            8          7  \n",
       "3     The default plugin layout for the top panel            8          7  \n",
       "4  A list of plugins that are disabled by default            9         12  "
      ]
     },
     "execution_count": 5,
     "metadata": {},
     "output_type": "execute_result"
    }
   ],
   "source": [
    "data['english_len'] = data['english'].apply(lambda x:len(x.split()))\n",
    "data['hindi_len'] = data['hindi'].apply(lambda x:len(x.split()))\n",
    "data.head()"
   ]
  },
  {
   "cell_type": "code",
   "execution_count": 6,
   "id": "2d6c2ba0-5def-40ff-a90b-6063bda457b1",
   "metadata": {},
   "outputs": [
    {
     "data": {
      "text/html": [
       "<div>\n",
       "<style scoped>\n",
       "    .dataframe tbody tr th:only-of-type {\n",
       "        vertical-align: middle;\n",
       "    }\n",
       "\n",
       "    .dataframe tbody tr th {\n",
       "        vertical-align: top;\n",
       "    }\n",
       "\n",
       "    .dataframe thead th {\n",
       "        text-align: right;\n",
       "    }\n",
       "</style>\n",
       "<table border=\"1\" class=\"dataframe\">\n",
       "  <thead>\n",
       "    <tr style=\"text-align: right;\">\n",
       "      <th></th>\n",
       "      <th>hindi</th>\n",
       "      <th>english</th>\n",
       "      <th>english_len</th>\n",
       "      <th>hindi_len</th>\n",
       "    </tr>\n",
       "  </thead>\n",
       "  <tbody>\n",
       "    <tr>\n",
       "      <th>0</th>\n",
       "      <td>अपने अनुप्रयोग को पहुंचनीयता व्यायाम का लाभ दें</td>\n",
       "      <td>Give your application an accessibility workout</td>\n",
       "      <td>6</td>\n",
       "      <td>8</td>\n",
       "    </tr>\n",
       "    <tr>\n",
       "      <th>2</th>\n",
       "      <td>निचले पटल के लिए डिफोल्ट प्लग-इन खाका</td>\n",
       "      <td>The default plugin layout for the bottom panel</td>\n",
       "      <td>8</td>\n",
       "      <td>7</td>\n",
       "    </tr>\n",
       "    <tr>\n",
       "      <th>3</th>\n",
       "      <td>ऊपरी पटल के लिए डिफोल्ट प्लग-इन खाका</td>\n",
       "      <td>The default plugin layout for the top panel</td>\n",
       "      <td>8</td>\n",
       "      <td>7</td>\n",
       "    </tr>\n",
       "    <tr>\n",
       "      <th>4</th>\n",
       "      <td>उन प्लग-इनों की सूची जिन्हें डिफोल्ट रूप से नि...</td>\n",
       "      <td>A list of plugins that are disabled by default</td>\n",
       "      <td>9</td>\n",
       "      <td>12</td>\n",
       "    </tr>\n",
       "    <tr>\n",
       "      <th>6</th>\n",
       "      <td>पहुंचनीय आसंधि (नोड) को चुनते समय हाइलाइट बक्स...</td>\n",
       "      <td>The duration of the highlight box when selecti...</td>\n",
       "      <td>10</td>\n",
       "      <td>10</td>\n",
       "    </tr>\n",
       "  </tbody>\n",
       "</table>\n",
       "</div>"
      ],
      "text/plain": [
       "                                               hindi  \\\n",
       "0    अपने अनुप्रयोग को पहुंचनीयता व्यायाम का लाभ दें   \n",
       "2              निचले पटल के लिए डिफोल्ट प्लग-इन खाका   \n",
       "3               ऊपरी पटल के लिए डिफोल्ट प्लग-इन खाका   \n",
       "4  उन प्लग-इनों की सूची जिन्हें डिफोल्ट रूप से नि...   \n",
       "6  पहुंचनीय आसंधि (नोड) को चुनते समय हाइलाइट बक्स...   \n",
       "\n",
       "                                             english  english_len  hindi_len  \n",
       "0     Give your application an accessibility workout            6          8  \n",
       "2     The default plugin layout for the bottom panel            8          7  \n",
       "3        The default plugin layout for the top panel            8          7  \n",
       "4     A list of plugins that are disabled by default            9         12  \n",
       "6  The duration of the highlight box when selecti...           10         10  "
      ]
     },
     "execution_count": 6,
     "metadata": {},
     "output_type": "execute_result"
    }
   ],
   "source": [
    "data = data[(data.english_len>=5) & (data.english_len<=15) & (data.hindi_len>=5) & (data.hindi_len<=15)]\n",
    "data.head()"
   ]
  },
  {
   "cell_type": "code",
   "execution_count": 7,
   "id": "ae85fb50-eb96-46e4-aa26-b375d6266be6",
   "metadata": {},
   "outputs": [],
   "source": [
    "data = data.sample(n=25000, random_state=0)\n",
    "train_split, test_split = train_test_split(data, test_size=0.1, random_state=0)\n",
    "train_split = train_split.reset_index(0).drop(['index'], axis=1)\n",
    "test_split = test_split.reset_index(0).drop(['index'], axis=1)"
   ]
  },
  {
   "cell_type": "code",
   "execution_count": 8,
   "id": "cb62ad0e-766a-426b-ac4c-521606629742",
   "metadata": {},
   "outputs": [
    {
     "name": "stdout",
     "output_type": "stream",
     "text": [
      "22500 2500\n"
     ]
    },
    {
     "data": {
      "text/html": [
       "<div>\n",
       "<style scoped>\n",
       "    .dataframe tbody tr th:only-of-type {\n",
       "        vertical-align: middle;\n",
       "    }\n",
       "\n",
       "    .dataframe tbody tr th {\n",
       "        vertical-align: top;\n",
       "    }\n",
       "\n",
       "    .dataframe thead th {\n",
       "        text-align: right;\n",
       "    }\n",
       "</style>\n",
       "<table border=\"1\" class=\"dataframe\">\n",
       "  <thead>\n",
       "    <tr style=\"text-align: right;\">\n",
       "      <th></th>\n",
       "      <th>hindi</th>\n",
       "      <th>english</th>\n",
       "      <th>english_len</th>\n",
       "      <th>hindi_len</th>\n",
       "    </tr>\n",
       "  </thead>\n",
       "  <tbody>\n",
       "    <tr>\n",
       "      <th>0</th>\n",
       "      <td>एक खूब छोटा अंश जिस में तत्वों के गुण होते है।</td>\n",
       "      <td>A very small component acquiring a quality of ...</td>\n",
       "      <td>9</td>\n",
       "      <td>11</td>\n",
       "    </tr>\n",
       "    <tr>\n",
       "      <th>1</th>\n",
       "      <td>कोटा जानकारी समर्थित नहीं फ़ोल्डर '% s' के लिए</td>\n",
       "      <td>No IMAP mailbox available for folder '% s'</td>\n",
       "      <td>8</td>\n",
       "      <td>9</td>\n",
       "    </tr>\n",
       "    <tr>\n",
       "      <th>2</th>\n",
       "      <td>परन्तु यह शीघ्र ही अपर्याप्त प्रतीत हुआ...।</td>\n",
       "      <td>But soon this was found rather inadequate.</td>\n",
       "      <td>7</td>\n",
       "      <td>7</td>\n",
       "    </tr>\n",
       "    <tr>\n",
       "      <th>3</th>\n",
       "      <td>उसने गिरफ्तार व्यक्ति के लिए प्रतिभू की भूमिका...</td>\n",
       "      <td>He acted as ad - promisor for the arrested per...</td>\n",
       "      <td>10</td>\n",
       "      <td>9</td>\n",
       "    </tr>\n",
       "    <tr>\n",
       "      <th>4</th>\n",
       "      <td>अल्लाह से क्षमा की प्रार्थना करो। निस्संदेह अल...</td>\n",
       "      <td>Ask God for forgiveness: He is most forgiving ...</td>\n",
       "      <td>10</td>\n",
       "      <td>12</td>\n",
       "    </tr>\n",
       "  </tbody>\n",
       "</table>\n",
       "</div>"
      ],
      "text/plain": [
       "                                               hindi  \\\n",
       "0    एक खूब छोटा अंश जिस में तत्वों के गुण होते है।    \n",
       "1     कोटा जानकारी समर्थित नहीं फ़ोल्डर '% s' के लिए   \n",
       "2       परन्तु यह शीघ्र ही अपर्याप्त प्रतीत हुआ...।    \n",
       "3  उसने गिरफ्तार व्यक्ति के लिए प्रतिभू की भूमिका...   \n",
       "4  अल्लाह से क्षमा की प्रार्थना करो। निस्संदेह अल...   \n",
       "\n",
       "                                             english  english_len  hindi_len  \n",
       "0  A very small component acquiring a quality of ...            9         11  \n",
       "1         No IMAP mailbox available for folder '% s'            8          9  \n",
       "2         But soon this was found rather inadequate.            7          7  \n",
       "3  He acted as ad - promisor for the arrested per...           10          9  \n",
       "4  Ask God for forgiveness: He is most forgiving ...           10         12  "
      ]
     },
     "execution_count": 8,
     "metadata": {},
     "output_type": "execute_result"
    }
   ],
   "source": [
    "print(len(train_split), len(test_split))\n",
    "train_split.head()"
   ]
  },
  {
   "cell_type": "code",
   "execution_count": 9,
   "id": "ef493fd4-90d9-42a3-bdc4-980390e4ee4a",
   "metadata": {},
   "outputs": [],
   "source": [
    "bpemb_en = BPEmb(lang='en')\n",
    "bpemb_hi = BPEmb(lang='hi')"
   ]
  },
  {
   "cell_type": "code",
   "execution_count": 10,
   "id": "2601423e-fb98-4c6d-af5a-5cbce527a1db",
   "metadata": {},
   "outputs": [],
   "source": [
    "class CustomDataset(torch.utils.data.Dataset):\n",
    "    def __init__(self, data, max_seq_len=64):\n",
    "        super(CustomDataset, self).__init__()\n",
    "        self.data = data\n",
    "        self.max_seq_len = max_seq_len\n",
    "    \n",
    "    def __len__(self):\n",
    "        return len(self.data)\n",
    "    \n",
    "    def __getitem__(self, index):\n",
    "        eng_sen = self.data.english.iloc[index]\n",
    "        hin_sen = self.data.hindi.iloc[index]\n",
    "        eng_tokens = bpemb_en.encode_ids_with_bos_eos(eng_sen)\n",
    "        hin_tokens = bpemb_hi.encode_ids_with_bos_eos(hin_sen)\n",
    "        trg_input_tokens = hin_tokens[:-1]\n",
    "        trg_output_tokens = hin_tokens[1:]\n",
    "        \n",
    "        eng_mask = [1]*(len(eng_tokens))\n",
    "        hin_mask = [1]*(len(trg_input_tokens))\n",
    "        \n",
    "        eng_tokens = eng_tokens + [0]*(self.max_seq_len - len(eng_tokens))\n",
    "        trg_input_tokens = trg_input_tokens + [0]*(self.max_seq_len - len(trg_input_tokens))\n",
    "        trg_output_tokens = trg_output_tokens + [0]*(self.max_seq_len - len(trg_output_tokens))\n",
    "        \n",
    "        eng_mask = eng_mask + [0]*(self.max_seq_len - len(eng_mask))\n",
    "        hin_mask = hin_mask + [0]*(self.max_seq_len - len(hin_mask))\n",
    "        # pad eng_tokens upto max_seq_len\n",
    "        # pad_hin_tokens upto max_seq_len\n",
    "        # then create masks for both of the inputs, and make them upto the dimension needed\n",
    "        \n",
    "        # now we have to pad the sequence upto max length and create the masks for the same\n",
    "        \n",
    "        \n",
    "        return torch.tensor(eng_tokens), torch.tensor(trg_input_tokens), torch.tensor(trg_output_tokens), torch.tensor(eng_mask), torch.tensor(hin_mask)"
   ]
  },
  {
   "cell_type": "code",
   "execution_count": 11,
   "id": "5a58f378-3162-438e-bad5-f0608bf48fbc",
   "metadata": {},
   "outputs": [],
   "source": [
    "def scaled_dot_product_attention(query, key, value, mask=None):\n",
    "    # this is going in the single head self-attention.\n",
    "    # query, key, value shape will be (b, h, t, d/h) \n",
    "    d_k = query.shape[-1]\n",
    "    scaled_scores = torch.matmul(query, torch.transpose(key, -2, -1))/np.sqrt(d_k)  # shape is  (b, h, t, t)\n",
    "    \n",
    "    if mask is not None:\n",
    "        # mask must be of shape (b,h,t,t)\n",
    "        scaled_scores = torch.where(mask==0, -np.inf, scaled_scores)\n",
    "        \n",
    "    weights = torch.nn.Softmax(dim=-1)(scaled_scores) # shape is (b,h,t,t)\n",
    "    return torch.matmul(weights, value)  # shape will be (b,h,t,d/h)\n"
   ]
  },
  {
   "cell_type": "code",
   "execution_count": 12,
   "id": "b493b55c-606c-485f-a2fd-3034810a3926",
   "metadata": {},
   "outputs": [],
   "source": [
    "class MultiHeadSelfAttention(nn.Module):\n",
    "    def __init__(self, d_model, num_heads):\n",
    "        super(MultiHeadSelfAttention, self).__init__()\n",
    "        self.d_model = d_model\n",
    "        self.num_heads = num_heads\n",
    "        \n",
    "        # let us say that our input is of shape (b, t, d) \n",
    "        self.wq = nn.Linear(in_features = self.d_model, out_features = self.d_model, bias = False) \n",
    "        self.wk = nn.Linear(in_features = self.d_model, out_features = self.d_model, bias = False)\n",
    "        self.wv = nn.Linear(in_features = self.d_model, out_features = self.d_model, bias = False)\n",
    "        # remember that wq, wk, ev defined above are just the matrices nothing more\n",
    "        \n",
    "        # now the final dense layer to add some nolinearity in it \n",
    "        self.fc = nn.Linear(self.d_model, self.d_model)\n",
    "        \n",
    "    def forward(self, q, k, v, mask=None):\n",
    "        # shape of q, k, v is (b, t, d)\n",
    "        q = self.wq(q).reshape(q.shape[0], q.shape[1], self.num_heads, self.d_model//self.num_heads).permute(0, 2, 1, 3) \n",
    "        k = self.wk(k).reshape(k.shape[0], k.shape[1], self.num_heads, self.d_model//self.num_heads).permute(0, 2, 1, 3) \n",
    "        v = self.wv(v).reshape(v.shape[0], v.shape[1], self.num_heads, self.d_model//self.num_heads).permute(0, 2, 1, 3) \n",
    "        \n",
    "        # now shape of q, k, v is (b, h, t, d/h)\n",
    "        # now we have to simply perform  self-attention for every head\n",
    "        op = scaled_dot_product_attention(q, k, v, mask)  # shape of op is (b, h, t, d/h)\n",
    "        op = op.permute(0, 2, 1, 3)\n",
    "        op = op.reshape(op.shape[0], op.shape[1], self.d_model)  # now shape of op is (b, t, d)\n",
    "        return self.fc(op) # shapes are (b, t, d)"
   ]
  },
  {
   "cell_type": "code",
   "execution_count": 13,
   "id": "0fdee867-eab6-4242-bdfd-d917f8424ea6",
   "metadata": {},
   "outputs": [],
   "source": [
    "class feedforward(nn.Module):\n",
    "    def __init__(self, d_model, hidden_dim):\n",
    "        super(feedforward, self).__init__()\n",
    "        self.fc1 = nn.Linear(d_model, hidden_dim)\n",
    "        self.relu = nn.ReLU()\n",
    "        self.fc2 = nn.Linear(hidden_dim, d_model)\n",
    "        \n",
    "    def forward(self, x):\n",
    "        return self.fc2(self.relu(self.fc1(x)))"
   ]
  },
  {
   "cell_type": "code",
   "execution_count": 14,
   "id": "7fb824f7-7d46-45a0-bdb2-ccac51bc54ee",
   "metadata": {},
   "outputs": [],
   "source": [
    "class encoder_block(nn.Module):\n",
    "    def __init__(self, d_model, num_heads, hidden_dim, dropout_rate=0.1):\n",
    "        super(encoder_block, self).__init__()\n",
    "        self.mhsa = MultiHeadSelfAttention(d_model, num_heads)\n",
    "        self.fc = feedforward(d_model, hidden_dim) # gonna give the shapes again to be (b, t, d)\n",
    "        \n",
    "        self.dropout1 = nn.Dropout(p=dropout_rate)\n",
    "        self.dropout2 = nn.Dropout(p=dropout_rate)\n",
    "        \n",
    "        self.layernorm1 = nn.LayerNorm(d_model)\n",
    "        self.layernorm2 = nn.LayerNorm(d_model)\n",
    "    \n",
    "    def forward(self, x, mask=None):\n",
    "        # input shape is (b, t, d)\n",
    "        op = self.mhsa(x, x, x, mask) # op shape is (b, t, d) and attention weights are of shape (b, t, t)\n",
    "        op = self.dropout1(op)\n",
    "        # now we have to pass it through layer normalization (study it)\n",
    "        op = self.layernorm1(op + x)\n",
    "        ffn_op = self.fc(op)\n",
    "        ffn_op = self.dropout2(ffn_op)\n",
    "        op = self.layernorm2(op + ffn_op)\n",
    "        return op"
   ]
  },
  {
   "cell_type": "code",
   "execution_count": 15,
   "id": "547fda4f-b964-4c71-97f3-8808d0eacfee",
   "metadata": {},
   "outputs": [
    {
     "name": "stdout",
     "output_type": "stream",
     "text": [
      "torch.Size([1, 3, 12])\n",
      "tensor([[[4.3741, 3.4272, 3.7685, 2.7472, 3.1909, 3.5729, 3.0595, 3.6291,\n",
      "          4.5180, 2.6380, 3.7090, 3.7612],\n",
      "         [4.3825, 3.4384, 3.7711, 2.7651, 3.1902, 3.5766, 3.0590, 3.6332,\n",
      "          4.5320, 2.6536, 3.7191, 3.7408],\n",
      "         [4.3821, 3.4378, 3.7710, 2.7642, 3.1907, 3.5862, 3.0557, 3.6388,\n",
      "          4.5306, 2.6522, 3.7180, 3.7422]]])\n"
     ]
    }
   ],
   "source": [
    "# this is an example of how multi-head works\n",
    "b = 1\n",
    "t = 3\n",
    "d = 12\n",
    "h = 3\n",
    "# first assigning the weights\n",
    "wq0 = torch.rand((d, d//h))\n",
    "wk0 = torch.rand((d, d//h))\n",
    "wv0 = torch.rand((d, d//h))\n",
    "\n",
    "wq1 = torch.rand((d, d//h))\n",
    "wk1 = torch.rand((d, d//h))\n",
    "wv1 = torch.rand((d, d//h))\n",
    "\n",
    "wq2 = torch.rand((d, d//h))\n",
    "wk2 = torch.rand((d, d//h))\n",
    "wv2 = torch.rand((d, d//h))\n",
    "\n",
    "# let us take some random input also \n",
    "x = torch.rand((1, t, d))\n",
    "\n",
    "# now calculating q, k, v for each attention head\n",
    "q0 = torch.matmul(x, wq0)\n",
    "k0 = torch.matmul(x, wk0)\n",
    "v0 = torch.matmul(x, wv0)\n",
    "\n",
    "q1 = torch.matmul(x, wq1)\n",
    "k1 = torch.matmul(x, wk1)\n",
    "v1 = torch.matmul(x, wv1)\n",
    "\n",
    "q2 = torch.matmul(x, wq2)\n",
    "k2 = torch.matmul(x, wk2)\n",
    "v2 = torch.matmul(x, wv2)\n",
    "\n",
    "# now we have to perform scaled self-attention on each head\n",
    "op0 = scaled_dot_product_attention(q0, k0, v0)\n",
    "op1 = scaled_dot_product_attention(q1, k1, v1)\n",
    "op2 = scaled_dot_product_attention(q2, k2, v2)\n",
    "\n",
    "\n",
    "# now the final ouputu is the conactenation of all the three outputs\n",
    "op = torch.concat([op0, op1, op2], dim=2)\n",
    "print(op.shape)\n",
    "print(op)"
   ]
  },
  {
   "cell_type": "code",
   "execution_count": 16,
   "id": "efaed1b0-bb3e-4cd7-ade4-e3df5ff37a81",
   "metadata": {},
   "outputs": [],
   "source": [
    "class encoder_transformer(nn.Module):\n",
    "    def __init__(self, num_blocks, d_model, num_heads, hidden_dim, src_vocab_size, max_seq_len, dropout_rate=0.1):\n",
    "        # max_seq_len is the number of time steps, i'll be referring it as t\n",
    "        super(encoder_transformer, self).__init__()\n",
    "        self.num_blocks = num_blocks\n",
    "        self.d_model = d_model\n",
    "        self.num_heads = num_heads\n",
    "        self.hidden_dim = hidden_dim \n",
    "        self.vocab_size = src_vocab_size\n",
    "        self.max_seq_len = max_seq_len\n",
    "        \n",
    "        self.token_embeds = nn.Embedding(src_vocab_size, d_model)\n",
    "        self.pos_embeds = nn.Embedding(max_seq_len, d_model)\n",
    "        self.dropout = nn.Dropout(p = dropout_rate)\n",
    "        self.blocks = nn.ModuleList([encoder_block(d_model, num_heads, hidden_dim, dropout_rate=dropout_rate) \n",
    "                      for _ in range(self.num_blocks)])\n",
    "        \n",
    "            \n",
    "        \n",
    "        \n",
    "    \n",
    "    def forward(self, source, mask=None):\n",
    "        # shape of source is (b, t)\n",
    "        # all source sentences will be padded and padding will be static\n",
    "        source = source.type(torch.LongTensor).to(device)\n",
    "        # comment out above line for \n",
    "        t_embeds = self.token_embeds(source) # (b, t, d)\n",
    "        pos_ids = torch.broadcast_to(torch.arange(self.max_seq_len), (x.shape[0], self.max_seq_len)).type(torch.LongTensor\n",
    "                                                                                                         ).to(device)\n",
    "        p_embeds = self.pos_embeds(pos_ids) # (b, t, d)\n",
    "        \n",
    "        inp = t_embeds + p_embeds  # (b, t, d)\n",
    "        op = self.dropout(inp)  # (b, t, d)\n",
    "        \n",
    "        for _, block in enumerate(self.blocks):\n",
    "            op = block(op, mask)\n",
    "            \n",
    "        return op\n",
    "            "
   ]
  },
  {
   "cell_type": "code",
   "execution_count": 17,
   "id": "deb3449b-b906-46fd-bc04-330663d29042",
   "metadata": {},
   "outputs": [],
   "source": [
    "class decoder_block(nn.Module):\n",
    "    def __init__(self, d_model, num_heads, hidden_dim, dropout_rate=0.1):\n",
    "        super(decoder_block, self).__init__()\n",
    "        self.mhsa1 = MultiHeadSelfAttention(d_model, num_heads)\n",
    "        self.mhsa2 = MultiHeadSelfAttention(d_model, num_heads)\n",
    "        \n",
    "        self.fc = feedforward(d_model, hidden_dim)\n",
    "        \n",
    "        self.dropout1 = nn.Dropout(p=dropout_rate)\n",
    "        self.dropout2 = nn.Dropout(p=dropout_rate)\n",
    "        self.dropout3 = nn.Dropout(p=dropout_rate)\n",
    "        \n",
    "        self.layernorm1 = nn.LayerNorm(d_model)\n",
    "        self.layernorm2 = nn.LayerNorm(d_model)\n",
    "        self.layernorm3 = nn.LayerNorm(d_model)\n",
    "        \n",
    "        \n",
    "    def forward(self, encoder_ouptut, target, decoder_mask=None, memory_mask=None):\n",
    "        mhsa_op1 = self.mhsa1(target, target, target, decoder_mask)\n",
    "        mhsa_op1 = self.dropout1(mhsa_op1)\n",
    "        mhsa_op1 = self.layernorm1(mhsa_op1 + target)\n",
    "        \n",
    "        mhsa_op2 = self.mhsa2(mhsa_op1, encoder_ouptut, encoder_ouptut, memory_mask)\n",
    "        mhsa_op2 = self.dropout2(mhsa_op2)\n",
    "        mhsa_op2 = self.layernorm2(mhsa_op1 + mhsa_op2)\n",
    "        \n",
    "        fc_op = self.fc(mhsa_op2)\n",
    "        fc_op = self.dropout3(fc_op)\n",
    "        op = self.layernorm3(fc_op + mhsa_op2)\n",
    "        \n",
    "        return op"
   ]
  },
  {
   "cell_type": "code",
   "execution_count": 18,
   "id": "1168ed6a-ae2b-4a37-ba4e-6c88d9ae5324",
   "metadata": {},
   "outputs": [],
   "source": [
    "class decoder_transformer(nn.Module):\n",
    "    def __init__(self, num_blocks, d_model, num_heads, hidden_dim, trg_vocab_size, max_seq_len, dropout_rate=0.1):\n",
    "        super(decoder_transformer, self).__init__()\n",
    "        self.token_embeds = nn.Embedding(trg_vocab_size, d_model)\n",
    "        self.pos_embeds = nn.Embedding(max_seq_len, d_model)\n",
    "        self.max_seq_len = max_seq_len\n",
    "        self.dropout = nn.Dropout(p=dropout_rate)\n",
    "        \n",
    "        self.blocks = nn.ModuleList([decoder_block(d_model, num_heads, hidden_dim, dropout_rate) \n",
    "                                    for _ in range(num_blocks)])\n",
    "    \n",
    "    def forward(self, encoder_output, target, decoder_mask=None, memory_mask=None):\n",
    "        # shape of target is (b, t)\n",
    "        target = target.type(torch.LongTensor).to(device)\n",
    "        t_embeds = self.token_embeds(target) # (b, t, d)\n",
    "        pos_ids = torch.broadcast_to(torch.arange(self.max_seq_len), (x.shape[0], self.max_seq_len)).type(torch.LongTensor\n",
    "                                                                                                         ).to(device)\n",
    "        p_embeds = self.pos_embeds(pos_ids)  # (b, t, d)\n",
    "        \n",
    "        inp = t_embeds + p_embeds\n",
    "        op = self.dropout(inp)\n",
    "        # now op is (b, t, d)\n",
    "        \n",
    "        for _, block in enumerate(self.blocks):\n",
    "            op = block(encoder_output, op, decoder_mask, memory_mask)\n",
    "            \n",
    "        return op"
   ]
  },
  {
   "cell_type": "code",
   "execution_count": 19,
   "id": "41ab2305-51f9-48d0-82ae-c48d2e91613d",
   "metadata": {},
   "outputs": [],
   "source": [
    "class transformer(nn.Module):\n",
    "    def __init__(self, num_blocks, d_model, num_heads, hidden_dim, src_vocab_size, trg_vocab_size, max_seq_len, \n",
    "                dropout_rate=0.1):\n",
    "        super(transformer, self).__init__()\n",
    "        self.encoder = encoder_transformer(num_blocks, d_model, num_heads, hidden_dim, src_vocab_size, max_seq_len,\n",
    "                            dropout_rate=0.1)\n",
    "        self.decoder = decoder_transformer(num_blocks, d_model, num_heads, hidden_dim, src_vocab_size, max_seq_len,\n",
    "                            dropout_rate=0.1)\n",
    "        \n",
    "        self.fc = nn.Linear(d_model, trg_vocab_size)\n",
    "        self.lookahead = torch.tril(torch.ones((max_seq_len, max_seq_len))).to(device)\n",
    "    \n",
    "    def forward(self, src, trg, src_pad_mask=None, trg_pad_mask=None):\n",
    "        # we require masks to be of shape (b, 1, 1, t)\n",
    "        dec_mask = None\n",
    "        if src_pad_mask is not None:\n",
    "            src_pad_mask = src_pad_mask.unsqueeze(1).unsqueeze(1)\n",
    "            src_pad_mask = src_pad_mask.to(device)\n",
    "        if trg_pad_mask is not None:\n",
    "            trg_pad_mask = trg_pad_mask.unsqueeze(1).unsqueeze(1)\n",
    "            dec_mask = torch.minimum(trg_pad_mask, self.lookahead)\n",
    "            dec_mask = dec_mask.to(device)\n",
    "            \n",
    "        enc_op = self.encoder(src, src_pad_mask)\n",
    "        op = self.decoder(enc_op, trg, dec_mask, src_pad_mask) # op is of shape (b, t, d)\n",
    "        # and generate the required look ahead mask\n",
    "        op = op.reshape(-1, op.shape[-1]) # shape is (b*t, d)\n",
    "        op = self.fc(op) # shape is (b*t, trg_vocab_size)\n",
    "        \n",
    "        return op"
   ]
  },
  {
   "cell_type": "code",
   "execution_count": 20,
   "id": "e5eb10d6-73cc-41ed-81d8-f60d608e340f",
   "metadata": {},
   "outputs": [],
   "source": [
    "def save_checkpoint(state, filename='my_checkpoint.pth'):\n",
    "    # will save model and optimizer params at every epoch\n",
    "    print(\"-> Saving CheckPoint\")\n",
    "    torch.save(state, filename)"
   ]
  },
  {
   "cell_type": "code",
   "execution_count": 21,
   "id": "d2b32beb-96a1-4c21-b1b6-7ab8bad37b97",
   "metadata": {},
   "outputs": [],
   "source": [
    "def load_checkpoint(checkpoint, model):\n",
    "    # it will just load, we can train it further, make changes to the architecture\n",
    "    # and simply use it to predict\n",
    "    print(\"-> Loading CheckPoint\")\n",
    "    model.load_state_dict(checkpoint[\"state_dict\"])"
   ]
  },
  {
   "cell_type": "code",
   "execution_count": 22,
   "id": "bb89fc11-e2c6-462d-9abf-3ff428addfa2",
   "metadata": {},
   "outputs": [],
   "source": [
    "def train(loader, model, optimizer, scaler, scheduler, loss_fn, epoch, device=device):\n",
    "    '''\n",
    "    it is the training procedure for one epoch of the network\n",
    "    '''\n",
    "    losses = 0\n",
    "    model.train()\n",
    "    num_batches = len(loader)\n",
    "    batches = tqdm(loader) # tqdm will be used to generate progress bars\n",
    "    for idx, batch in enumerate(batches, 0):\n",
    "        src = batch[0].to(device)  # (batch_size, max_len)\n",
    "        trg_inp = batch[1].to(device)  # (batch_size, max_len)\n",
    "        trg_op = batch[2].to(device) # (batch_size, max_len)\n",
    "        src_pad_mask = batch[3].to(device) # (batch_size, max_len)\n",
    "        trg_pad_mask = batch[4].to(device) # (batch_size, max_len)\n",
    "\n",
    "        # forward\n",
    "        optimizer.zero_grad()\n",
    "        with torch.cuda.amp.autocast(): # for gradient underflowing and overflowing and it makes training faster by converting all floats to float16\n",
    "            op = model(src, trg_inp, src_pad_mask, trg_pad_mask) # op shape is (batch_size*max_len, trg_vocab_size+1)\n",
    "            trg_op = trg_op.reshape(trg_op.shape[0]*trg_op.shape[1]) # trg_op shape is (batch_size*max_len)\n",
    "            loss = loss_fn(op, trg_op) # loss_fn should contain the parametere ignore_idx=0, so that \n",
    "            # losses corresponding to the padding token isn't calculated\n",
    "\n",
    "        # making all the previous gradients zero \n",
    "        scaler.scale(loss).backward()\n",
    "        scaler.step(optimizer)\n",
    "        scaler.update()\n",
    "        batches.set_postfix(loss = loss.item(), epoch=epoch) # loss of this current batch on current iteration \n",
    "        losses+= loss.item()\n",
    "\n",
    "    losses/=num_batches    \n",
    "    #scheduler.step()\n",
    "    return losses"
   ]
  },
  {
   "cell_type": "code",
   "execution_count": 23,
   "id": "0cfd8160-6493-49dc-97f4-b3d5e2d16163",
   "metadata": {},
   "outputs": [],
   "source": [
    "def test():\n",
    "    # i will only use this function for measuring its accuracy on different metrics\n",
    "    # for this task such as meteor and bleu\n",
    "    pass"
   ]
  },
  {
   "cell_type": "code",
   "execution_count": 24,
   "id": "a835ee2e-02f6-40a3-9fb0-076ceac4f55c",
   "metadata": {},
   "outputs": [],
   "source": [
    "def translate_sentence(sentence, model, max_seq_len, trans_len=50):\n",
    "    model.eval()\n",
    "    # first i am given the english sentence\n",
    "    inp = bpemb_en.encode_ids_with_bos_eos(sentence)\n",
    "    enc_mask = [1]*(len(inp))\n",
    "    inp = inp + [0]*(max_seq_len - len(inp))\n",
    "    enc_mask = enc_mask + [0]*(max_seq_len - len(enc_mask))\n",
    "    # inp shape is (max_seq_len) and so is of mask\n",
    "    #print(f'input = {inp}\\n\\nmask = {enc_mask}')\n",
    "    inp = torch.tensor(inp).unsqueeze(0).to(device) # shape of input is (1, max_seq_len)\n",
    "    enc_mask = torch.tensor(enc_mask).unsqueeze(0).to(device) # shape of mask is also (1, max_seq_len)\n",
    "    #inp =  inp.unsqueeze(0)\n",
    "    #enc_mask = enc_mask.unsqueeze(0).unsqueeze(1).unsqueeze(1) #  shape should be (b,1,1,max_seq_len)\n",
    "    # now the shapes are as required by the transformer\n",
    "    \n",
    "    #enc_op = model.encoder(inp, enc_mask)\n",
    "    # now we have to decode the sentence one-by-one \n",
    "    # so let us first of all make the inputs and the corresponding trg_mask\n",
    "    trg_inp = torch.zeros(max_seq_len).unsqueeze(0).to(device) # shape is (1, max_seq_len)\n",
    "    trg_mask = torch.zeros(max_seq_len).unsqueeze(0).to(device) # shape is (1, max_seq_len)\n",
    "    \n",
    "    #lookahead = torch.tril(torch.ones((max_seq_len, max_seq_len))).to(device) \n",
    "    \n",
    "    trg_inp[0, 0] = 1 # 1 means <sos> token\n",
    "    translation = []\n",
    "    #trg_mask[0, 0, 0, len(translation)] = 1 # as trg_inp has only one word in it at current time step\n",
    "    #dec_mask = torch.minimum(trg_mask, lookahead)\n",
    "    trg_mask[0, len(translation)] = 1 # as trg_inp has only one word in it at current time step\n",
    "    last_token = trg_inp[0, len(translation)]\n",
    "    # now we have to pass it through a decoder until we get a <eos> token or we exceed trans_len\n",
    "    while len(translation)<trans_len and last_token!=2: # 2 means <eos> token\n",
    "        # now we have to pass the above inputs through decoder\n",
    "        #dec_op = model.decoder(enc_op, trg_inp, dec_mask, enc_mask) \n",
    "        # now shape of decoder op will be \n",
    "        # shape of output is (1, hindi_vocab_size)\n",
    "        op = model(inp, trg_inp, enc_mask, trg_mask) # shape of op will be (max_seq_len, trg_vocab_size)\n",
    "        op = op.argmax(dim=1)  # shape will be (max_seq_len)\n",
    "        last_token = op[len(translation)].item()\n",
    "        translation.append(last_token)\n",
    "        trg_inp[0, len(translation)] = last_token  # updating the last token in the trg_inp\n",
    "        trg_mask[0, len(translation)] = 1  # setting up the mask for the current value equal to 1\n",
    "        #print(f\"DONE {len(translation)} times\")\n",
    "        \n",
    "    model.train()\n",
    "    return bpemb_hi.decode(translation)"
   ]
  },
  {
   "cell_type": "code",
   "execution_count": 25,
   "id": "bb4a4bbc-e7bb-4c76-912e-99c61d720722",
   "metadata": {},
   "outputs": [],
   "source": [
    "# training hyperparameters\n",
    "num_epochs =  200\n",
    "lr = 3e-4\n",
    "batch_size = 64\n",
    "\n",
    "train_dataset = CustomDataset(train_split, max_seq_len=64)\n",
    "test_dataset = CustomDataset(test_split, max_seq_len=64)\n",
    "train_loader = torch.utils.data.DataLoader(train_dataset, batch_size=batch_size, shuffle=True)\n",
    "test_loader = torch.utils.data.DataLoader(test_dataset, batch_size=batch_size, shuffle=True)"
   ]
  },
  {
   "cell_type": "code",
   "execution_count": 26,
   "id": "26ff0a49-7dc7-4a14-abc9-68ac6fc9ffc2",
   "metadata": {},
   "outputs": [
    {
     "name": "stdout",
     "output_type": "stream",
     "text": [
      "----------------------------------------------------------------\n",
      "        Layer (type)               Output Shape         Param #\n",
      "================================================================\n",
      "         Embedding-1              [-1, 64, 512]       5,120,512\n",
      "         Embedding-2              [-1, 64, 512]          32,768\n",
      "           Dropout-3              [-1, 64, 512]               0\n",
      "            Linear-4              [-1, 64, 512]         262,144\n",
      "            Linear-5              [-1, 64, 512]         262,144\n",
      "            Linear-6              [-1, 64, 512]         262,144\n",
      "            Linear-7              [-1, 64, 512]         262,656\n",
      "MultiHeadSelfAttention-8              [-1, 64, 512]               0\n",
      "           Dropout-9              [-1, 64, 512]               0\n",
      "        LayerNorm-10              [-1, 64, 512]           1,024\n",
      "           Linear-11             [-1, 64, 2048]       1,050,624\n",
      "             ReLU-12             [-1, 64, 2048]               0\n",
      "           Linear-13              [-1, 64, 512]       1,049,088\n",
      "      feedforward-14              [-1, 64, 512]               0\n",
      "          Dropout-15              [-1, 64, 512]               0\n",
      "        LayerNorm-16              [-1, 64, 512]           1,024\n",
      "    encoder_block-17              [-1, 64, 512]               0\n",
      "           Linear-18              [-1, 64, 512]         262,144\n",
      "           Linear-19              [-1, 64, 512]         262,144\n",
      "           Linear-20              [-1, 64, 512]         262,144\n",
      "           Linear-21              [-1, 64, 512]         262,656\n",
      "MultiHeadSelfAttention-22              [-1, 64, 512]               0\n",
      "          Dropout-23              [-1, 64, 512]               0\n",
      "        LayerNorm-24              [-1, 64, 512]           1,024\n",
      "           Linear-25             [-1, 64, 2048]       1,050,624\n",
      "             ReLU-26             [-1, 64, 2048]               0\n",
      "           Linear-27              [-1, 64, 512]       1,049,088\n",
      "      feedforward-28              [-1, 64, 512]               0\n",
      "          Dropout-29              [-1, 64, 512]               0\n",
      "        LayerNorm-30              [-1, 64, 512]           1,024\n",
      "    encoder_block-31              [-1, 64, 512]               0\n",
      "           Linear-32              [-1, 64, 512]         262,144\n",
      "           Linear-33              [-1, 64, 512]         262,144\n",
      "           Linear-34              [-1, 64, 512]         262,144\n",
      "           Linear-35              [-1, 64, 512]         262,656\n",
      "MultiHeadSelfAttention-36              [-1, 64, 512]               0\n",
      "          Dropout-37              [-1, 64, 512]               0\n",
      "        LayerNorm-38              [-1, 64, 512]           1,024\n",
      "           Linear-39             [-1, 64, 2048]       1,050,624\n",
      "             ReLU-40             [-1, 64, 2048]               0\n",
      "           Linear-41              [-1, 64, 512]       1,049,088\n",
      "      feedforward-42              [-1, 64, 512]               0\n",
      "          Dropout-43              [-1, 64, 512]               0\n",
      "        LayerNorm-44              [-1, 64, 512]           1,024\n",
      "    encoder_block-45              [-1, 64, 512]               0\n",
      "encoder_transformer-46              [-1, 64, 512]               0\n",
      "        Embedding-47              [-1, 64, 512]       5,120,512\n",
      "        Embedding-48              [-1, 64, 512]          32,768\n",
      "          Dropout-49              [-1, 64, 512]               0\n",
      "           Linear-50              [-1, 64, 512]         262,144\n",
      "           Linear-51              [-1, 64, 512]         262,144\n",
      "           Linear-52              [-1, 64, 512]         262,144\n",
      "           Linear-53              [-1, 64, 512]         262,656\n",
      "MultiHeadSelfAttention-54              [-1, 64, 512]               0\n",
      "          Dropout-55              [-1, 64, 512]               0\n",
      "        LayerNorm-56              [-1, 64, 512]           1,024\n",
      "           Linear-57              [-1, 64, 512]         262,144\n",
      "           Linear-58              [-1, 64, 512]         262,144\n",
      "           Linear-59              [-1, 64, 512]         262,144\n",
      "           Linear-60              [-1, 64, 512]         262,656\n",
      "MultiHeadSelfAttention-61              [-1, 64, 512]               0\n",
      "          Dropout-62              [-1, 64, 512]               0\n",
      "        LayerNorm-63              [-1, 64, 512]           1,024\n",
      "           Linear-64             [-1, 64, 2048]       1,050,624\n",
      "             ReLU-65             [-1, 64, 2048]               0\n",
      "           Linear-66              [-1, 64, 512]       1,049,088\n",
      "      feedforward-67              [-1, 64, 512]               0\n",
      "          Dropout-68              [-1, 64, 512]               0\n",
      "        LayerNorm-69              [-1, 64, 512]           1,024\n",
      "    decoder_block-70              [-1, 64, 512]               0\n",
      "           Linear-71              [-1, 64, 512]         262,144\n",
      "           Linear-72              [-1, 64, 512]         262,144\n",
      "           Linear-73              [-1, 64, 512]         262,144\n",
      "           Linear-74              [-1, 64, 512]         262,656\n",
      "MultiHeadSelfAttention-75              [-1, 64, 512]               0\n",
      "          Dropout-76              [-1, 64, 512]               0\n",
      "        LayerNorm-77              [-1, 64, 512]           1,024\n",
      "           Linear-78              [-1, 64, 512]         262,144\n",
      "           Linear-79              [-1, 64, 512]         262,144\n",
      "           Linear-80              [-1, 64, 512]         262,144\n",
      "           Linear-81              [-1, 64, 512]         262,656\n",
      "MultiHeadSelfAttention-82              [-1, 64, 512]               0\n",
      "          Dropout-83              [-1, 64, 512]               0\n",
      "        LayerNorm-84              [-1, 64, 512]           1,024\n",
      "           Linear-85             [-1, 64, 2048]       1,050,624\n",
      "             ReLU-86             [-1, 64, 2048]               0\n",
      "           Linear-87              [-1, 64, 512]       1,049,088\n",
      "      feedforward-88              [-1, 64, 512]               0\n",
      "          Dropout-89              [-1, 64, 512]               0\n",
      "        LayerNorm-90              [-1, 64, 512]           1,024\n",
      "    decoder_block-91              [-1, 64, 512]               0\n",
      "           Linear-92              [-1, 64, 512]         262,144\n",
      "           Linear-93              [-1, 64, 512]         262,144\n",
      "           Linear-94              [-1, 64, 512]         262,144\n",
      "           Linear-95              [-1, 64, 512]         262,656\n",
      "MultiHeadSelfAttention-96              [-1, 64, 512]               0\n",
      "          Dropout-97              [-1, 64, 512]               0\n",
      "        LayerNorm-98              [-1, 64, 512]           1,024\n",
      "           Linear-99              [-1, 64, 512]         262,144\n",
      "          Linear-100              [-1, 64, 512]         262,144\n",
      "          Linear-101              [-1, 64, 512]         262,144\n",
      "          Linear-102              [-1, 64, 512]         262,656\n",
      "MultiHeadSelfAttention-103              [-1, 64, 512]               0\n",
      "         Dropout-104              [-1, 64, 512]               0\n",
      "       LayerNorm-105              [-1, 64, 512]           1,024\n",
      "          Linear-106             [-1, 64, 2048]       1,050,624\n",
      "            ReLU-107             [-1, 64, 2048]               0\n",
      "          Linear-108              [-1, 64, 512]       1,049,088\n",
      "     feedforward-109              [-1, 64, 512]               0\n",
      "         Dropout-110              [-1, 64, 512]               0\n",
      "       LayerNorm-111              [-1, 64, 512]           1,024\n",
      "   decoder_block-112              [-1, 64, 512]               0\n",
      "decoder_transformer-113              [-1, 64, 512]               0\n",
      "          Linear-114                [-1, 10001]       5,130,513\n",
      "================================================================\n",
      "Total params: 37,492,497\n",
      "Trainable params: 37,492,497\n",
      "Non-trainable params: 0\n",
      "----------------------------------------------------------------\n",
      "Input size (MB): 0.02\n",
      "Forward/backward pass size (MB): 37.33\n",
      "Params size (MB): 143.02\n",
      "Estimated Total Size (MB): 180.36\n",
      "----------------------------------------------------------------\n"
     ]
    }
   ],
   "source": [
    "# model hyperparameters\n",
    "num_blocks = 3\n",
    "d_model = 512\n",
    "num_heads = 8\n",
    "hidden_dim = 4*d_model\n",
    "src_vocab_size = bpemb_en.vocab_size + 1 # +1 due to padding token\n",
    "trg_vocab_size = bpemb_hi.vocab_size + 1 # +1 due to padding token\n",
    "max_seq_len = 64\n",
    "\n",
    "# testing the model\n",
    "model = transformer(num_blocks, d_model, num_heads, hidden_dim, src_vocab_size, \n",
    "                              trg_vocab_size, max_seq_len).to(device)\n",
    "summary(model, [(max_seq_len, ), (max_seq_len ,)])"
   ]
  },
  {
   "cell_type": "code",
   "execution_count": 27,
   "id": "8dc0861e-1c05-4f1a-a9f7-c9c8498b956f",
   "metadata": {},
   "outputs": [
    {
     "name": "stdout",
     "output_type": "stream",
     "text": [
      "Original English Sentence ['distribution of profits to the shareholders of a company. ⁇  ⁇  ⁇  ⁇  ⁇  ⁇  ⁇  ⁇  ⁇  ⁇  ⁇  ⁇  ⁇  ⁇  ⁇  ⁇  ⁇  ⁇  ⁇  ⁇  ⁇  ⁇  ⁇  ⁇  ⁇  ⁇  ⁇  ⁇  ⁇  ⁇  ⁇  ⁇  ⁇  ⁇  ⁇  ⁇  ⁇  ⁇  ⁇  ⁇  ⁇  ⁇  ⁇  ⁇  ⁇  ⁇  ⁇  ⁇  ⁇ ']\n",
      "\n",
      "Original Hindi Sentence ['कंपनी के अंशधारियों को लाभ का वितरण। ⁇  ⁇  ⁇  ⁇  ⁇  ⁇  ⁇  ⁇  ⁇  ⁇  ⁇  ⁇  ⁇  ⁇  ⁇  ⁇  ⁇  ⁇  ⁇  ⁇  ⁇  ⁇  ⁇  ⁇  ⁇  ⁇  ⁇  ⁇  ⁇  ⁇  ⁇  ⁇  ⁇  ⁇  ⁇  ⁇  ⁇  ⁇  ⁇  ⁇  ⁇  ⁇  ⁇  ⁇  ⁇  ⁇  ⁇  ⁇  ⁇  ⁇  ⁇  ⁇  ⁇ ']\n",
      "\n",
      "Predicted Sentence ['राष्ट्रपति', 'झा', 'हिंदी', 'जिसकी', 'रेन्द्र', 'स्पर्श', 'विनिमय', 'सि', 'द्रव्य', 'अधिव', 'लम्बे', 'साइड', 'संख्या', 'घूर्', 'कारा', '्वज', 'अवलोक', 'टर्मिन', 'साइड', 'बेथ', 'मातृभाषा', 'ब्ले', 'सम्मिलित', 'रिचर्ड', 'अवलोक', 'जे', 'छि', 'रेन्द्र', 'bit', 'ार्थना', 'उसमें', 'राजनी', 'न्धी', 'रहते', 'आपदा', 'उसमें', 'दायित्व', 'वीर', 'उम्र', 'शीर्ष', 'एशिया', 'दायित्व', 'ज्ञ', 'सभ्यता', 'शुल्क', 'रिचर्ड', 'कहते', 'उसमें', 'पत्रों', 'रहते', 'दायित्व', 'ल्ली', ':-', 'इंदिरा', 'रेन्द्र', 'ज़र', 'खड़ा', 'सैनिकों', 'जुन', 'न्धी', 'सम्मिलित', '्रेड', 'यह', 'िज']\n"
     ]
    }
   ],
   "source": [
    "# let us test our model on some actual input to check it doesn't break\n",
    "for _, batch in enumerate(train_loader):\n",
    "    src = batch[0][0].unsqueeze(0).to(device)\n",
    "    trg_inp = batch[1][0].unsqueeze(0).to(device)\n",
    "    trg_op = batch[2][0].unsqueeze(0).to(device)\n",
    "    src_pad_mask = batch[3][0].unsqueeze(0).to(device)\n",
    "    trg_pad_mask = batch[4][0].unsqueeze(0).to(device)\n",
    "    break\n",
    "    \n",
    "#print(f'{src}\\n\\n{src_pad_mask}\\n\\n{trg}\\n\\n{trg_pad_mask}')\n",
    "op = model(src, trg_inp, src_pad_mask, trg_pad_mask)\n",
    "op = nn.Softmax(dim=-1)(op)\n",
    "out = torch.max(op, dim=-1).indices\n",
    "print(f'Original English Sentence {bpemb_en.decode(src.tolist())}\\n\\nOriginal Hindi Sentence {bpemb_hi.decode(trg_inp.tolist())}\\n\\nPredicted Sentence {bpemb_hi.decode(out.tolist())}')\n",
    "# ?? are because of the padding tokens we can easily remove them when needed"
   ]
  },
  {
   "cell_type": "code",
   "execution_count": 28,
   "id": "9965248b-ee42-4d3a-8a6f-4f9c21664f7d",
   "metadata": {},
   "outputs": [],
   "source": [
    "# setups\n",
    "optimizer = torch.optim.Adam(model.parameters(), lr=lr)\n",
    "loss_fn = nn.CrossEntropyLoss(ignore_index=0) \n",
    "scaler = torch.cuda.amp.GradScaler() \n",
    "scheduler = torch.optim.lr_scheduler.StepLR(optimizer, step_size=5, gamma=0.1)\n",
    "losses = []\n",
    "# for inference\n",
    "sentences = ['another plant, the aluminium corporation of india, came into existence after the war.', \n",
    "             'He is doing very good these days', 'this guy is totally mad', 'what were you saying that day?']"
   ]
  },
  {
   "cell_type": "code",
   "execution_count": 29,
   "id": "5e68fec2-f2d6-48eb-9292-e721810659bd",
   "metadata": {},
   "outputs": [],
   "source": [
    "# taking the test sentences for checking how good the model is trained\n",
    "def infer(sentences, model, max_seq_len):\n",
    "    for idx, sentence in enumerate(sentences):\n",
    "        print(f'Example {idx+1}:\\n{sentence}\\n{translate_sentence(sentence, model, max_seq_len)}\\n\\n')"
   ]
  },
  {
   "cell_type": "code",
   "execution_count": 30,
   "id": "c0855d7f-2e0f-41ba-8f26-2f4e7abf5ba6",
   "metadata": {},
   "outputs": [
    {
     "name": "stdout",
     "output_type": "stream",
     "text": [
      "Example 1:\n",
      "another plant, the aluminium corporation of india, came into existence after the war.\n",
      "['रहते', 'भाषित', 'उत्तर', 'fil', 'तथापि', 'भिक', 'इज़', 'परिश', 'one', 'अकाल', 'रूस', 'द', 'कथन', 'fir', 'नाटक', 'भारतीय', 'भाषित', 'भाप', 'थाई', 'उत्', 'चोप', 'निम्नलिखित', 'thumb', 'लोहे', 'धात', 'ऑनलाइन', 'बाज़', 'घ्र', 'छोड़ने', 'ारायण', 'ऐसा', 'दर्शन', 'उनसे', 'ड़ों', 'देखभाल', '्रु', 'सर्विस', 'net', 'जुड़', '==', 'net', 'त्म', 'bc', 'धीरे', 'साधारण', 'ism', 'नामांकन', 'उसमें', 'पार्टी', 'ोई']\n",
      "\n",
      "\n",
      "Example 2:\n",
      "He is doing very good these days\n",
      "['रहते', 'विजेता', 'समीप', 'ंख', 'खगोल', 'ण्व', 'धान', 'और', 'रुचि', 'प्रक्षेपण', 'अपील', 'नाटक', 'क्रिस', 'ुद', 'मशीन', 'शब्दों', 'खरी', 'कठोर', 'चाय', 'उत्', 'चोप', 'निम्नलिखित', 'thumb', 'लोहे', 'सान', 'मुखी', 'कथित', 'sp', 'ons', 'सफलतापूर्वक', 'पत्रश्रेणी', 'चलाया', 'उत', 'आ', 'रहें', 'war', 'आ', 'नो', 'पत्रश्रेणी', 'तरी', 'उग', 'विख्यात', 'अम्ब', 'यिक', 'आंद', 'जूलियन', 'गम', 'शाब्दिक', 'lect', 'ढाका']\n",
      "\n",
      "\n",
      "Example 3:\n",
      "this guy is totally mad\n",
      "['रहते', 'भाषित', 'उत्तर', 'fil', 'तथापि', 'संसद', 'मार्च', 'कालीन', 'िति', 'दूरी', 'यी', 'हम', 'संख्या', '0.00', 'ism', 'बीआई', 'after', 'छि', 'बताता', 'थाई', 'कृत', 'ाज्य', 'बल', 'िका', 'cat', 'क्टे', 'ऋग्वेद', 'रेन्द्र', '--', 'गल', 'मुहम्मद', 'तुर्की', 'मान्यता', 'अगली', 'ite', 'स्म', 'कम', 'न्द', 'मशीन', 'विष', 'घ्र', 'पुष्प', 'जहाँ', 'स्तन', 'ईंधन', 'मंच', 'गिरजा', 'संगम', 'गम', 'विज्ञापन']\n",
      "\n",
      "\n",
      "Example 4:\n",
      "what were you saying that day?\n",
      "['रहते', 'विजेता', 'na', 'शी', 'fin', 'रेस्ट', 'विष', 'फ्रां', 'स्थितियों', 'बल', 'मेरी', 'नेटवर्', 'आपने', 'शंकर', 'समकालीन', ':-', 'भारतीय', 'बुल', 'bu', 'लाइ', 'मातृभाषा', 'मल्टी', 'बल', 'िका', 'प्रस्ता', 'ऑनलाइन', 'बाज़', 'अंतर्राष्ट्रीय', 'ंट', 'ियार', 'ंजी', 'na', 'पिक्सेल', 'ंती', 'ष्टा', '?', 'नगरों', 'स्ट्रा', '–0000', 'वसा', 'शताब्दी', 'की', 'आवश्यकता', 'बनकर', 'हेन', 'ली', 'मांसपेश', 'समर्पित', 'विख्यात', 'more']\n",
      "\n",
      "\n"
     ]
    }
   ],
   "source": [
    "infer(sentences, model, max_seq_len)"
   ]
  },
  {
   "cell_type": "code",
   "execution_count": 31,
   "id": "0f721b43-e6ce-46e3-9784-ba1336d3bbc9",
   "metadata": {},
   "outputs": [
    {
     "name": "stderr",
     "output_type": "stream",
     "text": [
      "100%|██████████| 352/352 [00:25<00:00, 13.82it/s, epoch=0, loss=5.72]\n"
     ]
    },
    {
     "name": "stdout",
     "output_type": "stream",
     "text": [
      "-> Saving CheckPoint\n",
      "Example 1:\n",
      "another plant, the aluminium corporation of india, came into existence after the war.\n",
      "['एक', 'व्यक्ति', ',', '0000', 'में', ',', '0000', 'के', 'कारण', ',', '0000', 'में', ',', '0000', '']\n",
      "\n",
      "\n",
      "Example 2:\n",
      "He is doing very good these days\n",
      "['उसने', 'एक', 'ही', 'भी', 'है', '।', '']\n",
      "\n",
      "\n",
      "Example 3:\n",
      "this guy is totally mad\n",
      "['यह', 'एक', 'है', 'कि', 'यह', 'एक', 'है', '।', '']\n",
      "\n",
      "\n",
      "Example 4:\n",
      "what were you saying that day?\n",
      "['क्या', 'तुम', 'क्या', 'है', 'कि', 'क्या', 'क्या', 'क्या', 'है', '?', '']\n",
      "\n",
      "\n"
     ]
    },
    {
     "name": "stderr",
     "output_type": "stream",
     "text": [
      "100%|██████████| 352/352 [00:25<00:00, 13.78it/s, epoch=1, loss=4.84]\n"
     ]
    },
    {
     "name": "stdout",
     "output_type": "stream",
     "text": [
      "-> Saving CheckPoint\n",
      "Example 1:\n",
      "another plant, the aluminium corporation of india, came into existence after the war.\n",
      "['भारत', 'में', 'एक', 'भारत', 'की', 'एक', 'प्रमुख', 'भारत', 'में', 'एक', 'बड़ी', 'भारत', 'में', 'है', '।', '']\n",
      "\n",
      "\n",
      "Example 2:\n",
      "He is doing very good these days\n",
      "['वे', 'ये', 'लोग', 'है', 'कि', 'ये', 'लोग', 'है', '']\n",
      "\n",
      "\n",
      "Example 3:\n",
      "this guy is totally mad\n",
      "['यह', 'एक', 'बार', 'एक', 'नया', 'है', '']\n",
      "\n",
      "\n",
      "Example 4:\n",
      "what were you saying that day?\n",
      "['आप', 'दिन', 'क्या', 'है', 'कि', 'तुम', 'लोग', '?', '']\n",
      "\n",
      "\n"
     ]
    },
    {
     "name": "stderr",
     "output_type": "stream",
     "text": [
      "100%|██████████| 352/352 [00:25<00:00, 13.73it/s, epoch=2, loss=4.56]\n"
     ]
    },
    {
     "name": "stdout",
     "output_type": "stream",
     "text": [
      "-> Saving CheckPoint\n",
      "Example 1:\n",
      "another plant, the aluminium corporation of india, came into existence after the war.\n",
      "['एक', 'अन्य', 'देश', ',', 'भारत', 'के', 'बाद', 'भारत', 'में', 'एक', 'अन्य', 'भागों', 'में', 'एक', 'अन्य', 'प्रकार', 'की', 'एक', 'है', '।', '']\n",
      "\n",
      "\n",
      "Example 2:\n",
      "He is doing very good these days\n",
      "['वह', 'इन', 'बहुत', 'बहुत', 'बड़ी', 'है', '']\n",
      "\n",
      "\n",
      "Example 3:\n",
      "this guy is totally mad\n",
      "['यह', 'बहुत', 'कम', 'है', 'कि', 'यह', 'विकल्प', 'है', '']\n",
      "\n",
      "\n",
      "Example 4:\n",
      "what were you saying that day?\n",
      "['उस', 'दिन', 'क्या', 'है', '?', '']\n",
      "\n",
      "\n"
     ]
    },
    {
     "name": "stderr",
     "output_type": "stream",
     "text": [
      "100%|██████████| 352/352 [00:25<00:00, 13.69it/s, epoch=3, loss=4.02]\n"
     ]
    },
    {
     "name": "stdout",
     "output_type": "stream",
     "text": [
      "-> Saving CheckPoint\n",
      "Example 1:\n",
      "another plant, the aluminium corporation of india, came into existence after the war.\n",
      "['एक', 'दूसरे', 'के', 'बाद', ',', 'भारत', 'में', 'एक', 'दूसरे', 'के', 'बाद', 'एक', 'दूसरे', 'के', 'बाद', 'एक', 'दूसरे', 'पर', 'स्थित', 'है', '।', '']\n",
      "\n",
      "\n",
      "Example 2:\n",
      "He is doing very good these days\n",
      "['वह', 'ये', 'बहुत', 'बड़ी', 'बड़ी', 'निश', 'ानी', 'है', '।', '']\n",
      "\n",
      "\n",
      "Example 3:\n",
      "this guy is totally mad\n",
      "['यह', 'कार्य', 'है', 'कि', 'इस', 'प्रकार', 'की', 'है', '।', '']\n",
      "\n",
      "\n",
      "Example 4:\n",
      "what were you saying that day?\n",
      "['तुम', 'क्या', 'तुम', 'ने', 'देखा', 'था', '?', '']\n",
      "\n",
      "\n"
     ]
    },
    {
     "name": "stderr",
     "output_type": "stream",
     "text": [
      "100%|██████████| 352/352 [00:25<00:00, 13.68it/s, epoch=4, loss=3.28]\n"
     ]
    },
    {
     "name": "stdout",
     "output_type": "stream",
     "text": [
      "-> Saving CheckPoint\n",
      "Example 1:\n",
      "another plant, the aluminium corporation of india, came into existence after the war.\n",
      "['एक', 'दूसरे', 'के', 'बाद', ',', 'भारत', 'के', 'बाद', 'भारत', 'में', 'एक', 'दूसरे', 'के', 'बाद', 'एक', 'और', 'अंग', 'में', 'स्थित', 'है', '.', '']\n",
      "\n",
      "\n",
      "Example 2:\n",
      "He is doing very good these days\n",
      "['वह', 'इन', 'दिनों', 'बहुत', 'बड़ी', 'है', '']\n",
      "\n",
      "\n",
      "Example 3:\n",
      "this guy is totally mad\n",
      "['यह', 'कार्य', 'से', 'अधिक', 'ृत', 'हैं', '।', '']\n",
      "\n",
      "\n",
      "Example 4:\n",
      "what were you saying that day?\n",
      "['आप', 'दिन', 'क्या', 'हो', 'गया', '?', '']\n",
      "\n",
      "\n"
     ]
    },
    {
     "name": "stderr",
     "output_type": "stream",
     "text": [
      "100%|██████████| 352/352 [00:25<00:00, 13.68it/s, epoch=5, loss=2.86]\n"
     ]
    },
    {
     "name": "stdout",
     "output_type": "stream",
     "text": [
      "-> Saving CheckPoint\n",
      "Example 1:\n",
      "another plant, the aluminium corporation of india, came into existence after the war.\n",
      "['एक', 'अन्य', 'देश', ',', 'भारत', 'के', 'एक', 'अन्य', 'भागों', 'में', 'स्थित', 'है', '।', '']\n",
      "\n",
      "\n",
      "Example 2:\n",
      "He is doing very good these days\n",
      "['वह', 'बहुत', 'अच्छे', 'दिन', 'है', '']\n",
      "\n",
      "\n",
      "Example 3:\n",
      "this guy is totally mad\n",
      "['यह', 'कार्य', 'है', 'कि', 'इस', 'पर', 'आधारित', 'है', '।', '']\n",
      "\n",
      "\n",
      "Example 4:\n",
      "what were you saying that day?\n",
      "['उस', 'दिन', 'कित', 'ने', 'ही', 'चेहरे', 'गिर', 'े', 'रहे', 'थे', '?', '']\n",
      "\n",
      "\n"
     ]
    },
    {
     "name": "stderr",
     "output_type": "stream",
     "text": [
      "100%|██████████| 352/352 [00:25<00:00, 13.68it/s, epoch=6, loss=2.42]\n"
     ]
    },
    {
     "name": "stdout",
     "output_type": "stream",
     "text": [
      "-> Saving CheckPoint\n",
      "Example 1:\n",
      "another plant, the aluminium corporation of india, came into existence after the war.\n",
      "['एक', 'और', 'न', 'ियन', '्त्र', 'ण', 'के', 'बाद', ',', 'भारत', 'के', 'बाद', 'एक', 'दम', 'नदी', 'में', 'से', 'एक', '।', '']\n",
      "\n",
      "\n",
      "Example 2:\n",
      "He is doing very good these days\n",
      "['वह', 'बहुत', 'अच्छी', 'तरह', 'से', 'बहुत', 'अच्छा', 'है', ',', '']\n",
      "\n",
      "\n",
      "Example 3:\n",
      "this guy is totally mad\n",
      "['यह', 'नेटवर्क', 'से', 'क्टर', 'काफी', 'जटिल', 'है', '।', '']\n",
      "\n",
      "\n",
      "Example 4:\n",
      "what were you saying that day?\n",
      "['उस', 'दिन', 'कित', 'ने', 'ही', 'क्या', 'था', '?', '']\n",
      "\n",
      "\n"
     ]
    },
    {
     "name": "stderr",
     "output_type": "stream",
     "text": [
      "100%|██████████| 352/352 [00:25<00:00, 13.69it/s, epoch=7, loss=1.89]\n"
     ]
    },
    {
     "name": "stdout",
     "output_type": "stream",
     "text": [
      "-> Saving CheckPoint\n",
      "Example 1:\n",
      "another plant, the aluminium corporation of india, came into existence after the war.\n",
      "['एक', 'दूसरी', 'ओर', 'नी', 'र', 'णीय', 'है', ',', 'भारत', 'में', 'जल', 'ो', 'हि', 'नी', 'पड़ी', '।', '']\n",
      "\n",
      "\n",
      "Example 2:\n",
      "He is doing very good these days\n",
      "['वे', 'बहुत', 'ही', 'अच्छे', 'हैं', ',', '']\n",
      "\n",
      "\n",
      "Example 3:\n",
      "this guy is totally mad\n",
      "['यह', 'शैक्षणिक', 'जटिल', 'की', 'गति', 'से', 'है', '']\n",
      "\n",
      "\n",
      "Example 4:\n",
      "what were you saying that day?\n",
      "['उस', 'दिन', 'आप', 'उस', 'दिन', 'क्या', 'था', '?', '']\n",
      "\n",
      "\n"
     ]
    },
    {
     "name": "stderr",
     "output_type": "stream",
     "text": [
      "100%|██████████| 352/352 [00:25<00:00, 13.68it/s, epoch=8, loss=1.71]\n"
     ]
    },
    {
     "name": "stdout",
     "output_type": "stream",
     "text": [
      "-> Saving CheckPoint\n",
      "Example 1:\n",
      "another plant, the aluminium corporation of india, came into existence after the war.\n",
      "['एक', 'दूसरे', 'के', 'बाद', 'दूसरी', 'छोर', 'के', 'बाद', ',', '‘', 'ग', 'ड़ा', 'हुआ', '’', 'में', 'एक', 'अन्य', 'आरम्भ', 'में', 'लिख', 'ना', '।', '']\n",
      "\n",
      "\n",
      "Example 2:\n",
      "He is doing very good these days\n",
      "['वे', 'बहुत', 'अच्छी', 'तरह', 'हैं', ',', '']\n",
      "\n",
      "\n",
      "Example 3:\n",
      "this guy is totally mad\n",
      "['यह', 'सीमा', 'कम', 'होती', 'है', '।', '']\n",
      "\n",
      "\n",
      "Example 4:\n",
      "what were you saying that day?\n",
      "['उस', 'दिन', 'आप', 'उस', 'दिन', 'कित', 'ने', 'ही', 'क्या', 'था', '?', '']\n",
      "\n",
      "\n"
     ]
    },
    {
     "name": "stderr",
     "output_type": "stream",
     "text": [
      "100%|██████████| 352/352 [00:25<00:00, 13.66it/s, epoch=9, loss=1.4]  \n"
     ]
    },
    {
     "name": "stdout",
     "output_type": "stream",
     "text": [
      "-> Saving CheckPoint\n",
      "Example 1:\n",
      "another plant, the aluminium corporation of india, came into existence after the war.\n",
      "['एक', 'स', 'ार्थ', ',', 'भारत', 'के', 'बाद', 'एक', 'अन्य', 'सदस्य', 'निकला', '.', '']\n",
      "\n",
      "\n",
      "Example 2:\n",
      "He is doing very good these days\n",
      "['वह', 'बहुत', 'अच्छे', 'काम', 'कर', 'रहा', 'है', '']\n",
      "\n",
      "\n",
      "Example 3:\n",
      "this guy is totally mad\n",
      "['यह', 'शैक्षणिक', 'गतिविधियों', 'एक', 'दम', 'से', 'क्टर', '']\n",
      "\n",
      "\n",
      "Example 4:\n",
      "what were you saying that day?\n",
      "['और', 'तुम', 'को', 'क्या', 'माल', 'ूम', 'हाव', 'िया', 'क्या', 'था', '']\n",
      "\n",
      "\n"
     ]
    },
    {
     "name": "stderr",
     "output_type": "stream",
     "text": [
      "100%|██████████| 352/352 [00:26<00:00, 13.24it/s, epoch=10, loss=1.01] \n"
     ]
    },
    {
     "name": "stdout",
     "output_type": "stream",
     "text": [
      "-> Saving CheckPoint\n",
      "Example 1:\n",
      "another plant, the aluminium corporation of india, came into existence after the war.\n",
      "['एक', 'दूसरे', 'के', 'बाद', 'दूसरी', 'ओर', 'नी', 'प', 'रा', 'ओं', 'में', 'से', 'दूसरी', 'ओर', 'मिली', '.', '']\n",
      "\n",
      "\n",
      "Example 2:\n",
      "He is doing very good these days\n",
      "['वह', 'बहुत', 'अच्छी', 'तरह', 'से', 'ये', 'बहुत', 'अच्छे', 'है', '।', '']\n",
      "\n",
      "\n",
      "Example 3:\n",
      "this guy is totally mad\n",
      "['यह', 'पाठ्यक्रम', 'सी', '-', 'ड', 'ैक', 'ंत', 'रण', 'है', '।', '']\n",
      "\n",
      "\n",
      "Example 4:\n",
      "what were you saying that day?\n",
      "['और', 'तुम', 'को', 'क्या', 'माल', 'ूम', 'हाव', 'िया', 'क्या', 'है', '']\n",
      "\n",
      "\n"
     ]
    },
    {
     "name": "stderr",
     "output_type": "stream",
     "text": [
      "100%|██████████| 352/352 [00:25<00:00, 13.64it/s, epoch=11, loss=0.793]\n"
     ]
    },
    {
     "name": "stdout",
     "output_type": "stream",
     "text": [
      "-> Saving CheckPoint\n",
      "Example 1:\n",
      "another plant, the aluminium corporation of india, came into existence after the war.\n",
      "['एक', 'दूसरे', 'के', 'बाद', 'गर्भा', 'शय', 'के', 'बाद', 'विकसित', 'मातृ', 'और', 'फ', 'िस', 'ू', 'ध', 'ियां', '।', '']\n",
      "\n",
      "\n",
      "Example 2:\n",
      "He is doing very good these days\n",
      "['वह', 'यह', 'विश्वास', 'है', 'कि', 'वह', 'दिन', '-', 'सा', 'ता', 'है', '।', '']\n",
      "\n",
      "\n",
      "Example 3:\n",
      "this guy is totally mad\n",
      "['यह', 'कार्य', 'स्व', 'य', 'ली', 'जिले', 'में', 'है', '।', '']\n",
      "\n",
      "\n",
      "Example 4:\n",
      "what were you saying that day?\n",
      "['और', 'तुम', 'को', 'क्या', 'माल', 'ूम', 'हाव', 'िया', 'क्या', 'है', '']\n",
      "\n",
      "\n"
     ]
    },
    {
     "name": "stderr",
     "output_type": "stream",
     "text": [
      "100%|██████████| 352/352 [00:25<00:00, 13.68it/s, epoch=12, loss=0.57] \n"
     ]
    },
    {
     "name": "stdout",
     "output_type": "stream",
     "text": [
      "-> Saving CheckPoint\n",
      "Example 1:\n",
      "another plant, the aluminium corporation of india, came into existence after the war.\n",
      "['एक', 'दूसरे', 'के', 'बाद', 'एक', 'अन्य', 'भागों', 'में', ',', 'उत्तर', 'प्रदेश', 'से', 'विकसित', 'हुआ', 'है', '।', '']\n",
      "\n",
      "\n",
      "Example 2:\n",
      "He is doing very good these days\n",
      "['वह', 'बहुत', 'बहुत', 'अच्छे', 'हैं', ',', '']\n",
      "\n",
      "\n",
      "Example 3:\n",
      "this guy is totally mad\n",
      "['यह', 'पाठ्यक्रम', 'एक', 'दम', 'निरा', 'धार', 'है', '']\n",
      "\n",
      "\n",
      "Example 4:\n",
      "what were you saying that day?\n",
      "['और', 'तुम', 'को', 'क्या', 'माल', 'ूम', 'हाव', 'िया', 'क्या', 'था', '']\n",
      "\n",
      "\n"
     ]
    },
    {
     "name": "stderr",
     "output_type": "stream",
     "text": [
      "100%|██████████| 352/352 [00:25<00:00, 13.69it/s, epoch=13, loss=0.525]\n"
     ]
    },
    {
     "name": "stdout",
     "output_type": "stream",
     "text": [
      "-> Saving CheckPoint\n",
      "Example 1:\n",
      "another plant, the aluminium corporation of india, came into existence after the war.\n",
      "['एक', 'दूसरे', 'शहर', ',', 'भारत', ',', 'कार', 'गर', 'ों', 'के', ',', 'फ', 'ंस', 'ू', 'ंगा', '।', '']\n",
      "\n",
      "\n",
      "Example 2:\n",
      "He is doing very good these days\n",
      "['वह', 'बहुत', 'अच्छा', 'है', ',', 'स', 'लेकर', 'बहुत', 'अच्छा', 'काम', 'कर', 'रहा', 'है', '।', '']\n",
      "\n",
      "\n",
      "Example 3:\n",
      "this guy is totally mad\n",
      "['कु', 'ंक', 'ल्प', 'ः', 'यह', 'विकल्प', 'है', '।', '']\n",
      "\n",
      "\n",
      "Example 4:\n",
      "what were you saying that day?\n",
      "['और', 'तुम', 'को', 'क्या', 'माल', 'ूम', 'हाव', 'िया', 'क्या', '?', '']\n",
      "\n",
      "\n"
     ]
    },
    {
     "name": "stderr",
     "output_type": "stream",
     "text": [
      "100%|██████████| 352/352 [00:25<00:00, 13.68it/s, epoch=14, loss=0.491]\n"
     ]
    },
    {
     "name": "stdout",
     "output_type": "stream",
     "text": [
      "-> Saving CheckPoint\n",
      "Example 1:\n",
      "another plant, the aluminium corporation of india, came into existence after the war.\n",
      "['एक', 'दूसरे', 'के', 'बाद', 'गर्भा', 'शय', 'के', 'बाद', 'गर्भा', 'शय', 'में', 'एक', 'अन्य', 'स्रोत', 'है', '।', '']\n",
      "\n",
      "\n",
      "Example 2:\n",
      "He is doing very good these days\n",
      "['वह', 'बहुत', 'खुश', 'हो', 'रहा', 'है', '।', '']\n",
      "\n",
      "\n",
      "Example 3:\n",
      "this guy is totally mad\n",
      "['यह', 'विशाल', 'सी', 'वन', 'की', 'है', '।', '']\n",
      "\n",
      "\n",
      "Example 4:\n",
      "what were you saying that day?\n",
      "['और', 'तुम्', 'ह', 'ें', 'क्या', 'माल', 'ूम', 'कि', 'ज', 'ज़ा', 'क्या', '']\n",
      "\n",
      "\n"
     ]
    },
    {
     "name": "stderr",
     "output_type": "stream",
     "text": [
      "100%|██████████| 352/352 [00:25<00:00, 13.68it/s, epoch=15, loss=0.375]\n"
     ]
    },
    {
     "name": "stdout",
     "output_type": "stream",
     "text": [
      "-> Saving CheckPoint\n",
      "Example 1:\n",
      "another plant, the aluminium corporation of india, came into existence after the war.\n",
      "['एक', 'अन्य', 'भारतीय', 'फ', 'ौर', 'प', 'ेक', 'वंश', 'के', 'स्वी', 'त', 'के', 'राज', 'ासन', 'को', 'ओवर', '.', '']\n",
      "\n",
      "\n",
      "Example 2:\n",
      "He is doing very good these days\n",
      "['वह', 'सच', 'मु', 'च', 'सब', 'की', 'सो', 'चना', 'है', '']\n",
      "\n",
      "\n",
      "Example 3:\n",
      "this guy is totally mad\n",
      "['यह', 'क्रिया', 'है', 'वे', 'बदलाव', 'ला', 'ते', 'हैं', '']\n",
      "\n",
      "\n",
      "Example 4:\n",
      "what were you saying that day?\n",
      "['और', 'तुम', 'को', 'क्या', 'माल', 'ूम', 'हाव', 'िया', 'क्या', 'है', '']\n",
      "\n",
      "\n"
     ]
    },
    {
     "name": "stderr",
     "output_type": "stream",
     "text": [
      "100%|██████████| 352/352 [00:25<00:00, 13.69it/s, epoch=16, loss=0.354]\n"
     ]
    },
    {
     "name": "stdout",
     "output_type": "stream",
     "text": [
      "-> Saving CheckPoint\n",
      "Example 1:\n",
      "another plant, the aluminium corporation of india, came into existence after the war.\n",
      "['एक', 'दूसरे', 'को', 'स', 'ना', 'या', 'गया', ',', 'भारत', 'के', 'बाद', 'में', 'भी', 'दूसरी', '.', '']\n",
      "\n",
      "\n",
      "Example 2:\n",
      "He is doing very good these days\n",
      "['वह', 'मु', 'झ', 'से', 'उसकी', 'अस', 'ल', 'में', 'बहुत', 'अच्छा', 'हो', 'रही', 'है', '।', '']\n",
      "\n",
      "\n",
      "Example 3:\n",
      "this guy is totally mad\n",
      "['यह', 'कार्य', 'घ', 'नात्मक', 'ता', 'है', '']\n",
      "\n",
      "\n",
      "Example 4:\n",
      "what were you saying that day?\n",
      "['और', 'तुम', 'को', 'क्या', 'माल', 'ूम', 'हाव', 'िया', 'क्या', 'है', '']\n",
      "\n",
      "\n"
     ]
    },
    {
     "name": "stderr",
     "output_type": "stream",
     "text": [
      "100%|██████████| 352/352 [00:25<00:00, 13.68it/s, epoch=17, loss=0.419]\n"
     ]
    },
    {
     "name": "stdout",
     "output_type": "stream",
     "text": [
      "-> Saving CheckPoint\n",
      "Example 1:\n",
      "another plant, the aluminium corporation of india, came into existence after the war.\n",
      "['एक', 'अन्य', 'भारतीय', 'औद्योगिक', 'क्रांति', 'के', 'बाद', 'एक', 'दूसरी', 'छोर', 'प', 'र्व', 'बैंक', 'में', 'स', 'स्ता', 'ना', ',', '']\n",
      "\n",
      "\n",
      "Example 2:\n",
      "He is doing very good these days\n",
      "['वह', 'बहुत', 'ही', 'अच्छा', 'है', '']\n",
      "\n",
      "\n",
      "Example 3:\n",
      "this guy is totally mad\n",
      "['यह', 'शैक्षणिक', 'गतिविधियों', 'से', 'काफी', 'मदद', 'है', '।', '']\n",
      "\n",
      "\n",
      "Example 4:\n",
      "what were you saying that day?\n",
      "['उस', 'दिन', 'तुम', 'को', 'क्या', 'था', '?', '']\n",
      "\n",
      "\n"
     ]
    },
    {
     "name": "stderr",
     "output_type": "stream",
     "text": [
      "100%|██████████| 352/352 [00:25<00:00, 13.69it/s, epoch=18, loss=0.371]\n"
     ]
    },
    {
     "name": "stdout",
     "output_type": "stream",
     "text": [
      "-> Saving CheckPoint\n",
      "Example 1:\n",
      "another plant, the aluminium corporation of india, came into existence after the war.\n",
      "['एक', 'दूसरे', 'के', 'बाद', 'एक', 'अन्य', 'भागों', 'में', 'और', 'घटना', 'एं', 'दिख', 'ाना', 'थ', 'घातक', 'होती', 'है', '।', '']\n",
      "\n",
      "\n",
      "Example 2:\n",
      "He is doing very good these days\n",
      "['वह', 'बहुत', 'अच्छे', 'लगने', 'लगे', 'हैं', '']\n",
      "\n",
      "\n",
      "Example 3:\n",
      "this guy is totally mad\n",
      "['यह', 'क्रिया', 'समूह', 'एक', 'बदलाव', 'बदलाव', 'अप', 'ार', 'है', '']\n",
      "\n",
      "\n",
      "Example 4:\n",
      "what were you saying that day?\n",
      "['और', 'तुम', 'को', 'क्या', 'माल', 'ूम', 'हाव', 'िया', 'क्या', 'है', '']\n",
      "\n",
      "\n"
     ]
    },
    {
     "name": "stderr",
     "output_type": "stream",
     "text": [
      "100%|██████████| 352/352 [00:26<00:00, 13.50it/s, epoch=19, loss=0.298]\n"
     ]
    },
    {
     "name": "stdout",
     "output_type": "stream",
     "text": [
      "-> Saving CheckPoint\n",
      "Example 1:\n",
      "another plant, the aluminium corporation of india, came into existence after the war.\n",
      "['एक', 'अन्य', 'भारत', 'में', 'एक', 'अन्य', 'रूपों', ',', 'कंपनी', ',', 'स', 'ग', 'र्भ', 'ता', 'वश', 'ता', 'है', '।', '']\n",
      "\n",
      "\n",
      "Example 2:\n",
      "He is doing very good these days\n",
      "['वह', 'बहुत', 'अच्छा', 'काम', 'कर', 'रहा', 'है', '']\n",
      "\n",
      "\n",
      "Example 3:\n",
      "this guy is totally mad\n",
      "['यह', 'क्रिया', 'यह', 'जगह', 'घ', 'ोर', 'िट', 'है', '।', '']\n",
      "\n",
      "\n",
      "Example 4:\n",
      "what were you saying that day?\n",
      "['और', 'तुम्', 'ह', 'ें', 'क्या', 'ख', 'याल', 'ड़', 'ाने', 'थे', '?', '']\n",
      "\n",
      "\n"
     ]
    },
    {
     "name": "stderr",
     "output_type": "stream",
     "text": [
      "100%|██████████| 352/352 [00:25<00:00, 13.69it/s, epoch=20, loss=0.279]\n"
     ]
    },
    {
     "name": "stdout",
     "output_type": "stream",
     "text": [
      "-> Saving CheckPoint\n",
      "Example 1:\n",
      "another plant, the aluminium corporation of india, came into existence after the war.\n",
      "['भारत', 'के', 'उपरांत', ',', 'उत्तर', 'दाताओं', 'के', 'बाद', 'एक', 'अन्य', 'स', 'चे', 'त', 'में', 'भी', 'नहीं', '।', '']\n",
      "\n",
      "\n",
      "Example 2:\n",
      "He is doing very good these days\n",
      "['वह', 'बहुत', 'अच्छे', 'हैं', ',', 'बहुत', 'अच्छा', 'है', '']\n",
      "\n",
      "\n",
      "Example 3:\n",
      "this guy is totally mad\n",
      "['यह', 'क्रिया', 'यह', 'जगह', 'है', 'कि', '']\n",
      "\n",
      "\n",
      "Example 4:\n",
      "what were you saying that day?\n",
      "['और', 'तुम', 'को', 'क्या', 'माल', 'ूम', 'हाव', 'िया', 'क्या', 'है', '']\n",
      "\n",
      "\n"
     ]
    },
    {
     "name": "stderr",
     "output_type": "stream",
     "text": [
      "100%|██████████| 352/352 [00:25<00:00, 13.69it/s, epoch=21, loss=0.269]\n"
     ]
    },
    {
     "name": "stdout",
     "output_type": "stream",
     "text": [
      "-> Saving CheckPoint\n",
      "Example 1:\n",
      "another plant, the aluminium corporation of india, came into existence after the war.\n",
      "['एक', 'स', 'ख', 'ोल', ',', 'भारतीय', 'अर्थव्यवस्था', 'के', 'बाद', ',', 'युद्ध', 'के', 'बाद', ',', 'कंपनी', 'को', 'स', 'ना', 'शी', 'ने', 'स', 'की', 'को', 'एक', 'कार', 'ी', 'गर', ',', 'कंपनी', 'के', 'बाद', 'में', 'भेजा', '।', '']\n",
      "\n",
      "\n",
      "Example 2:\n",
      "He is doing very good these days\n",
      "['वह', 'बहुत', 'अच्छे', 'हैं', '-', 'सु', 'झे', 'एक', 'बहुत', 'अच्छा', 'है', '।', '']\n",
      "\n",
      "\n",
      "Example 3:\n",
      "this guy is totally mad\n",
      "['यह', 'भाषण', 'उपयोग', 'इस', 'स्थिति', 'से', 'होती', 'है', '।', '']\n",
      "\n",
      "\n",
      "Example 4:\n",
      "what were you saying that day?\n",
      "['और', 'तुम', 'को', 'क्या', 'माल', 'ूम', 'हाव', 'िया', 'क्या', 'है', '']\n",
      "\n",
      "\n"
     ]
    },
    {
     "name": "stderr",
     "output_type": "stream",
     "text": [
      "100%|██████████| 352/352 [00:25<00:00, 13.70it/s, epoch=22, loss=0.244]\n"
     ]
    },
    {
     "name": "stdout",
     "output_type": "stream",
     "text": [
      "-> Saving CheckPoint\n",
      "Example 1:\n",
      "another plant, the aluminium corporation of india, came into existence after the war.\n",
      "['एक', 'अन्य', 'भारतीय', 'सिक्', 'कों', 'के', 'बाद', 'में', 'भारी', 'रंग', 'वा', 'डेविड', 'गोल्ड', 'ता', 'को', 'स', 'ँ', 'व', 'के', 'समान', '।', '']\n",
      "\n",
      "\n",
      "Example 2:\n",
      "He is doing very good these days\n",
      "['वह', 'बहुत', 'अच्छे', 'दिन', 'है', '']\n",
      "\n",
      "\n",
      "Example 3:\n",
      "this guy is totally mad\n",
      "['यह', 'शैक्षणिक', 'गतिविधियों', 'से', 'खाली', 'जगह', 'है', '']\n",
      "\n",
      "\n",
      "Example 4:\n",
      "what were you saying that day?\n",
      "['कित', 'ने', 'तु', 'झे', 'कित', 'ने', 'उस', 'दिन', 'क्या', 'मिलता', 'है', '?', '']\n",
      "\n",
      "\n"
     ]
    },
    {
     "name": "stderr",
     "output_type": "stream",
     "text": [
      "100%|██████████| 352/352 [00:25<00:00, 13.69it/s, epoch=23, loss=0.298]\n"
     ]
    },
    {
     "name": "stdout",
     "output_type": "stream",
     "text": [
      "-> Saving CheckPoint\n",
      "Example 1:\n",
      "another plant, the aluminium corporation of india, came into existence after the war.\n",
      "['एक', 'दूसरी', 'कंपनी', 'के', 'बाद', ',', 'भारत', 'के', 'बाद', 'एक', 'दूसरा', 'जिसके', 'पृष्ठ', 'पर', 'रोक', 'ता', 'था', '।', '']\n",
      "\n",
      "\n",
      "Example 2:\n",
      "He is doing very good these days\n",
      "['वह', 'बहुत', 'अच्छे', 'दिन', 'है', '']\n",
      "\n",
      "\n",
      "Example 3:\n",
      "this guy is totally mad\n",
      "['यह', 'विशाल', 'ष', 'कों', 'का', 'निर्धारण', 'है', '']\n",
      "\n",
      "\n",
      "Example 4:\n",
      "what were you saying that day?\n",
      "['कित', 'ने', 'तु', 'झे', 'क्या', 'हुआ', 'है', 'कि', 'तुम', 'लोग', 'क्या', '?', '']\n",
      "\n",
      "\n"
     ]
    },
    {
     "name": "stderr",
     "output_type": "stream",
     "text": [
      "100%|██████████| 352/352 [00:26<00:00, 13.52it/s, epoch=24, loss=0.241]\n"
     ]
    },
    {
     "name": "stdout",
     "output_type": "stream",
     "text": [
      "-> Saving CheckPoint\n",
      "Example 1:\n",
      "another plant, the aluminium corporation of india, came into existence after the war.\n",
      "['एक', 'स', 'जीव', 'जानवर', ',', 'भारत', 'के', 'बाद', ',', 'भारत', 'के', 'सभी', 'रूपों', 'में', 'स', 'िस', 'ान', '्व', 'ाह', 'ित', '']\n",
      "\n",
      "\n",
      "Example 2:\n",
      "He is doing very good these days\n",
      "['वह', 'बहुत', 'अच्छे', 'जीवन', 'की', 'तेज़', 'होती', 'है', ',', '']\n",
      "\n",
      "\n",
      "Example 3:\n",
      "this guy is totally mad\n",
      "['यह', 'कार्य', 'है', 'यह', 'मार्ग', 'है', '']\n",
      "\n",
      "\n",
      "Example 4:\n",
      "what were you saying that day?\n",
      "['उस', 'दिन', 'कित', 'ने', 'ही', 'चेहरे', 'था', '?', '']\n",
      "\n",
      "\n"
     ]
    },
    {
     "name": "stderr",
     "output_type": "stream",
     "text": [
      "100%|██████████| 352/352 [00:25<00:00, 13.69it/s, epoch=25, loss=0.242]\n"
     ]
    },
    {
     "name": "stdout",
     "output_type": "stream",
     "text": [
      "-> Saving CheckPoint\n",
      "Example 1:\n",
      "another plant, the aluminium corporation of india, came into existence after the war.\n",
      "['एक', 'दूसरा', 'महा', 'श', 'न्स', 'ेंट', 'ा', 'पश्चिम', 'में', 'स', 'ँ', 'थ', 'ेन', 'मिला', 'प', 'ते', 'हुए', 'पानी', 'का', 'एक', 'दूसरा', 'आई', '।', '']\n",
      "\n",
      "\n",
      "Example 2:\n",
      "He is doing very good these days\n",
      "['वह', 'बहुत', 'अच्छे', 'हैं', ',', 'बहुत', 'अच्छी', 'अवस्था', 'में', 'है', '']\n",
      "\n",
      "\n",
      "Example 3:\n",
      "this guy is totally mad\n",
      "['यह', 'कार्य', 'स्व', 'य', 'कार्यों', 'में', 'है', '']\n",
      "\n",
      "\n",
      "Example 4:\n",
      "what were you saying that day?\n",
      "['उस', 'दिन', 'कित', 'ने', 'ही', 'ज़ा', 'ब', 'में', 'क्या', '?', '']\n",
      "\n",
      "\n"
     ]
    },
    {
     "name": "stderr",
     "output_type": "stream",
     "text": [
      "100%|██████████| 352/352 [00:25<00:00, 13.69it/s, epoch=26, loss=0.275]\n"
     ]
    },
    {
     "name": "stdout",
     "output_type": "stream",
     "text": [
      "-> Saving CheckPoint\n",
      "Example 1:\n",
      "another plant, the aluminium corporation of india, came into existence after the war.\n",
      "['एक', 'अन्य', 'भारतीय', 'सिक्', 'खों', 'के', 'बाद', 'एक', 'अन्य', 'अतिरिक्त', 'सु', 'ने', 'से', 'गुजर', 'ने', 'लगे', '।', '']\n",
      "\n",
      "\n",
      "Example 2:\n",
      "He is doing very good these days\n",
      "['वह', 'बहुत', 'अच्छे', 'है', ',', 'पह', 'ने', 'की', 'यही', 'वह', 'बहुत', 'अच्छी', 'तरह', 'है', '']\n",
      "\n",
      "\n",
      "Example 3:\n",
      "this guy is totally mad\n",
      "['यह', 'क्रिया', 'संभव', 'है', 'काफी', 'सु', 'विध', 'ाजनक', 'बनाना', 'आवश्यक', 'है', '।', '']\n",
      "\n",
      "\n",
      "Example 4:\n",
      "what were you saying that day?\n",
      "['उस', 'दिन', 'कित', 'ने', 'ही', 'दिया', 'गया', 'था', '?', '']\n",
      "\n",
      "\n"
     ]
    },
    {
     "name": "stderr",
     "output_type": "stream",
     "text": [
      "100%|██████████| 352/352 [00:25<00:00, 13.69it/s, epoch=27, loss=0.233]\n"
     ]
    },
    {
     "name": "stdout",
     "output_type": "stream",
     "text": [
      "-> Saving CheckPoint\n",
      "Example 1:\n",
      "another plant, the aluminium corporation of india, came into existence after the war.\n",
      "['एक', 'अन्य', 'पृष्ठ', 'के', 'स्वी', 'ो', 'थ', 'में', 'काम', 'कार', 'गर', ',', 'हालांकि', 'की', 'बात', 'स', 'ोप', 'ंथ', 'र', 'के', 'अन्य', 'स्रोत', 'है', '।', '']\n",
      "\n",
      "\n",
      "Example 2:\n",
      "He is doing very good these days\n",
      "['वे', 'बहुत', 'अच्छे', 'हैं', 'कि', 'वह', 'दिन', 'लगते', 'हैं', '।', '']\n",
      "\n",
      "\n",
      "Example 3:\n",
      "this guy is totally mad\n",
      "['यह', 'भाषण', 'कुछ', 'समय', 'से', 'ही', 'है', '।', '']\n",
      "\n",
      "\n",
      "Example 4:\n",
      "what were you saying that day?\n",
      "['और', 'कित', 'ने', 'उस', 'दिन', 'कित', 'ने', 'ही', 'क्या', 'है', '?', '']\n",
      "\n",
      "\n"
     ]
    },
    {
     "name": "stderr",
     "output_type": "stream",
     "text": [
      "100%|██████████| 352/352 [00:25<00:00, 13.70it/s, epoch=28, loss=0.197]\n"
     ]
    },
    {
     "name": "stdout",
     "output_type": "stream",
     "text": [
      "-> Saving CheckPoint\n",
      "Example 1:\n",
      "another plant, the aluminium corporation of india, came into existence after the war.\n",
      "['एक', 'अन्य', 'भारतीय', 'संवि', 'दा', 'वन', 'के', 'बाद', 'मे', 'मिश्रण', 'गया', ',', 'स', 'ोप', 'न', '']\n",
      "\n",
      "\n",
      "Example 2:\n",
      "He is doing very good these days\n",
      "['वह', 'बहुत', 'अच्छा', 'खेल', 'ता', 'है', '।', '']\n",
      "\n",
      "\n",
      "Example 3:\n",
      "this guy is totally mad\n",
      "['यह', 'कार्य', 'अप', 'रि', 'हार', 'से', 'बना', 'रहा', 'है', '।', '']\n",
      "\n",
      "\n",
      "Example 4:\n",
      "what were you saying that day?\n",
      "['और', 'तुम', 'को', 'क्या', 'माल', 'ूम', 'हाव', 'िया', 'क्या', 'था', '']\n",
      "\n",
      "\n"
     ]
    },
    {
     "name": "stderr",
     "output_type": "stream",
     "text": [
      "100%|██████████| 352/352 [00:25<00:00, 13.69it/s, epoch=29, loss=0.194]\n"
     ]
    },
    {
     "name": "stdout",
     "output_type": "stream",
     "text": [
      "-> Saving CheckPoint\n",
      "Example 1:\n",
      "another plant, the aluminium corporation of india, came into existence after the war.\n",
      "['एक', 'और', 'विकासशील', 'न्याय', 'पालिका', 'के', 'बाद', ',', 'पश्चिम', 'बंगाल', 'के', 'राज', 'दूत', '']\n",
      "\n",
      "\n",
      "Example 2:\n",
      "He is doing very good these days\n",
      "['वह', 'बहुत', 'अच्छे', 'हैं', ',', 'बहुत', 'अच्छे', 'दिन', 'लगते', 'हैं', '।', '']\n",
      "\n",
      "\n",
      "Example 3:\n",
      "this guy is totally mad\n",
      "['यह', 'विकल्प', 'बहुत', 'अधिक', 'महत्व', 'है', '।', '']\n",
      "\n",
      "\n",
      "Example 4:\n",
      "what were you saying that day?\n",
      "['कित', 'ने', 'लोग', 'उस', 'दिन', 'कित', 'ने', 'ही', 'क्या', 'है', '?', '']\n",
      "\n",
      "\n"
     ]
    },
    {
     "name": "stderr",
     "output_type": "stream",
     "text": [
      "100%|██████████| 352/352 [00:25<00:00, 13.69it/s, epoch=30, loss=0.234]\n"
     ]
    },
    {
     "name": "stdout",
     "output_type": "stream",
     "text": [
      "-> Saving CheckPoint\n",
      "Example 1:\n",
      "another plant, the aluminium corporation of india, came into existence after the war.\n",
      "['एक', 'और', 'श्रेणी', 'ो', ',', 'भारत', 'में', 'और', 'विदेशी', 'यु', 'वती', 'म', 'ताओं', 'के', 'विदेशी', 'मुद्रा', 'के', '00', 'में', 'भाग', 'दिख', 'ती', 'है', '।', '']\n",
      "\n",
      "\n",
      "Example 2:\n",
      "He is doing very good these days\n",
      "['वह', 'इन', 'दिनों', 'की', 'क्रिया', 'कला', 'प', 'ता', 'ही', 'है', '।', '']\n",
      "\n",
      "\n",
      "Example 3:\n",
      "this guy is totally mad\n",
      "['यह', 'असफल', 'अत्यधिक', 'विस्तार', 'ित', 'हैं', '']\n",
      "\n",
      "\n",
      "Example 4:\n",
      "what were you saying that day?\n",
      "['और', 'तुम', 'को', 'क्या', 'माल', 'ूम', 'हाव', 'िया', 'क्या', 'है', '']\n",
      "\n",
      "\n"
     ]
    },
    {
     "name": "stderr",
     "output_type": "stream",
     "text": [
      "100%|██████████| 352/352 [00:25<00:00, 13.70it/s, epoch=31, loss=0.202]\n"
     ]
    },
    {
     "name": "stdout",
     "output_type": "stream",
     "text": [
      "-> Saving CheckPoint\n",
      "Example 1:\n",
      "another plant, the aluminium corporation of india, came into existence after the war.\n",
      "['एक', 'दूसरी', 'ओर', 'नी', 'वन', 'कार', 'पोरेशन', ',', 'निकला', ',', 'भारत', 'में', 'कार', '्मिक', 'ों', 'का', 'एक', 'दूसरा', 'टूट', 'गया', 'है', '।', '']\n",
      "\n",
      "\n",
      "Example 2:\n",
      "He is doing very good these days\n",
      "['वह', 'बहुत', 'ही', 'ध्यान', 'से', 'है', '।', '']\n",
      "\n",
      "\n",
      "Example 3:\n",
      "this guy is totally mad\n",
      "['यह', 'विकल्प', 'यह', 'विकल्प', 'द', 'ेंगे', '।', '']\n",
      "\n",
      "\n",
      "Example 4:\n",
      "what were you saying that day?\n",
      "['कित', 'ने', 'उस', 'दिन', 'क्या', 'हो', 'गया', '?', '']\n",
      "\n",
      "\n"
     ]
    },
    {
     "name": "stderr",
     "output_type": "stream",
     "text": [
      "100%|██████████| 352/352 [00:25<00:00, 13.66it/s, epoch=32, loss=0.264]\n"
     ]
    },
    {
     "name": "stdout",
     "output_type": "stream",
     "text": [
      "-> Saving CheckPoint\n",
      "Example 1:\n",
      "another plant, the aluminium corporation of india, came into existence after the war.\n",
      "['एक', 'और', 'कलाकार', 'के', 'शाम', 'को', 'भारत', 'के', 'बाद', ',', 'युद्ध', 'के', 'राज', 'ू', 'पी', 'भर', 'ता', 'है', '.', '']\n",
      "\n",
      "\n",
      "Example 2:\n",
      "He is doing very good these days\n",
      "['वह', 'बहुत', 'बड़े', 'जीवन', 'का', 'प्रतीक', 'है', '']\n",
      "\n",
      "\n",
      "Example 3:\n",
      "this guy is totally mad\n",
      "['यह', 'कार्य', 'अप', 'रि', 'हार', 'मौ', 'ड', 'करने', 'वाली', 'है', '']\n",
      "\n",
      "\n",
      "Example 4:\n",
      "what were you saying that day?\n",
      "['कित', 'ने', 'उस', 'दिन', 'को', 'तु', 'झे', 'क्या', 'चीज़', 'ों', 'से', 'पैदा', 'किया', 'गया', 'था', '']\n",
      "\n",
      "\n"
     ]
    },
    {
     "name": "stderr",
     "output_type": "stream",
     "text": [
      "100%|██████████| 352/352 [00:25<00:00, 13.67it/s, epoch=33, loss=0.246]\n"
     ]
    },
    {
     "name": "stdout",
     "output_type": "stream",
     "text": [
      "-> Saving CheckPoint\n",
      "Example 1:\n",
      "another plant, the aluminium corporation of india, came into existence after the war.\n",
      "['एक', 'रूप', 'से', 'स्वी', 'धीन', 'म्', 'भा', 'वत', ',', 'उत्तर', 'प्रदेश', 'के', 'बाद', 'प्रदर्शन', 'के', 'उपरांत', 'पाद', 'प', 'रंग', 'का', 'एक', 'पदार्थ', '।', '']\n",
      "\n",
      "\n",
      "Example 2:\n",
      "He is doing very good these days\n",
      "['वह', 'बहुत', 'ही', 'ध्यान', 'है', '']\n",
      "\n",
      "\n",
      "Example 3:\n",
      "this guy is totally mad\n",
      "['यह', 'विकल्प', 'यह', 'विकल्प', 'ऊर्जा', 'है', '।', '']\n",
      "\n",
      "\n",
      "Example 4:\n",
      "what were you saying that day?\n",
      "['दिन', 'क्या', 'तुम', 'ने', 'देखा', 'था', '?', '']\n",
      "\n",
      "\n"
     ]
    },
    {
     "name": "stderr",
     "output_type": "stream",
     "text": [
      "100%|██████████| 352/352 [00:25<00:00, 13.69it/s, epoch=34, loss=0.195] \n"
     ]
    },
    {
     "name": "stdout",
     "output_type": "stream",
     "text": [
      "-> Saving CheckPoint\n",
      "Example 1:\n",
      "another plant, the aluminium corporation of india, came into existence after the war.\n",
      "['एक', 'दूसरी', 'विद्या', 'के', 'बाद', 'दूसरी', 'ओर', 'नी', 'वन', 'के', 'दशक', 'में', 'दूसरा', 'निकला', '।', '']\n",
      "\n",
      "\n",
      "Example 2:\n",
      "He is doing very good these days\n",
      "['वह', 'बहुत', 'ही', 'सुख', 'है', '']\n",
      "\n",
      "\n",
      "Example 3:\n",
      "this guy is totally mad\n",
      "['यह', 'हमारी', 'निजी', 'रोग', 'है', '']\n",
      "\n",
      "\n",
      "Example 4:\n",
      "what were you saying that day?\n",
      "['कित', 'ने', 'उस', 'दिन', 'क्या', 'और', 'भाई', 'दिन', '?', '']\n",
      "\n",
      "\n"
     ]
    },
    {
     "name": "stderr",
     "output_type": "stream",
     "text": [
      "100%|██████████| 352/352 [00:25<00:00, 13.69it/s, epoch=35, loss=0.171] \n"
     ]
    },
    {
     "name": "stdout",
     "output_type": "stream",
     "text": [
      "-> Saving CheckPoint\n",
      "Example 1:\n",
      "another plant, the aluminium corporation of india, came into existence after the war.\n",
      "['भारत', 'के', 'बाद', 'एक', 'स', '्र', 'ांस', 'उत्तर', ',', 'भारत', 'स', 'चे', 'तन', 'में', 'स', 'ँ', 'भ', 'वन', 'बनाई', '।', '']\n",
      "\n",
      "\n",
      "Example 2:\n",
      "He is doing very good these days\n",
      "['वह', 'इन', 'दिनों', 'की', 'आशा', 'है', '।', '']\n",
      "\n",
      "\n",
      "Example 3:\n",
      "this guy is totally mad\n",
      "['यह', 'काम', 'बहुत', 'अच्छे', 'से', 'ही', 'समझ', 'रहा', 'है', '।', '']\n",
      "\n",
      "\n",
      "Example 4:\n",
      "what were you saying that day?\n",
      "['और', 'तुम', 'को', 'क्या', 'माल', 'ूम', 'हाव', 'िया', 'क्या', 'है', '']\n",
      "\n",
      "\n"
     ]
    },
    {
     "name": "stderr",
     "output_type": "stream",
     "text": [
      "100%|██████████| 352/352 [00:25<00:00, 13.69it/s, epoch=36, loss=0.203]\n"
     ]
    },
    {
     "name": "stdout",
     "output_type": "stream",
     "text": [
      "-> Saving CheckPoint\n",
      "Example 1:\n",
      "another plant, the aluminium corporation of india, came into existence after the war.\n",
      "['एक', 'और', 'श्रेणी', 'में', 'मु', 'म', 'फ्', 'फ़', 'पानी', 'की', 'एक', 'कार', 'गर', 'निकला', '।', '']\n",
      "\n",
      "\n",
      "Example 2:\n",
      "He is doing very good these days\n",
      "['वह', 'उनका', 'स', 'दिन', 'है', 'कि', 'उनका', 'स', 'द्', 'भावना', 'ामी', 'है', '।', '']\n",
      "\n",
      "\n",
      "Example 3:\n",
      "this guy is totally mad\n",
      "['यह', 'हिंसा', 'है', 'यह', 'कभी', 'स्व', 'ि', 'ग्ध', 'कर', 'उभर', 'रही', 'है', '']\n",
      "\n",
      "\n",
      "Example 4:\n",
      "what were you saying that day?\n",
      "['और', 'तुम', 'को', 'क्या', 'माल', 'ूम', 'हाव', 'िया', 'क्या', 'है', '']\n",
      "\n",
      "\n"
     ]
    },
    {
     "name": "stderr",
     "output_type": "stream",
     "text": [
      "100%|██████████| 352/352 [00:25<00:00, 13.69it/s, epoch=37, loss=0.167]\n"
     ]
    },
    {
     "name": "stdout",
     "output_type": "stream",
     "text": [
      "-> Saving CheckPoint\n",
      "Example 1:\n",
      "another plant, the aluminium corporation of india, came into existence after the war.\n",
      "['एक', 'और', 'रस', 'ूल', 'निकला', ',', 'भारत', 'के', 'उपरांत', 'देश', 'में', 'कार', 'गर', 'हुआ', 'है', '।', '']\n",
      "\n",
      "\n",
      "Example 2:\n",
      "He is doing very good these days\n",
      "['वह', 'उनका', 'स', 'स्वर', 'पाठ', 'कर', 'रहा', 'है', '।', '']\n",
      "\n",
      "\n",
      "Example 3:\n",
      "this guy is totally mad\n",
      "['यह', 'स', 'ड़े', 'इस', 'मंच', 'में', 'काफी', 'द', 'ार', 'ती', 'है', '।', '']\n",
      "\n",
      "\n",
      "Example 4:\n",
      "what were you saying that day?\n",
      "['और', 'तुम', 'को', 'क्या', 'माल', 'ूम', 'हाव', 'िया', 'क्या', 'है', '']\n",
      "\n",
      "\n"
     ]
    },
    {
     "name": "stderr",
     "output_type": "stream",
     "text": [
      "100%|██████████| 352/352 [00:25<00:00, 13.68it/s, epoch=38, loss=0.198]\n"
     ]
    },
    {
     "name": "stdout",
     "output_type": "stream",
     "text": [
      "-> Saving CheckPoint\n",
      "Example 1:\n",
      "another plant, the aluminium corporation of india, came into existence after the war.\n",
      "['एक', 'और', 'चेन्नई', 'र', '्र', 'न', 'ू', 'तन', 'गर', 'में', 'आई', 'डी', 'गई', '।', '']\n",
      "\n",
      "\n",
      "Example 2:\n",
      "He is doing very good these days\n",
      "['वह', 'दिनों', 'बहुत', 'अच्छे', 'से', 'सु', 'विध', 'ाजनक', 'गर', 'नहीं', 'है', '।', '']\n",
      "\n",
      "\n",
      "Example 3:\n",
      "this guy is totally mad\n",
      "['यह', 'सीमा', 'है', 'यह', 'विचार', 'पूर्ण', 'परिवर्तन', 'ला', 'ए', 'है', '']\n",
      "\n",
      "\n",
      "Example 4:\n",
      "what were you saying that day?\n",
      "['और', 'तुम', 'को', 'क्या', 'माल', 'ूम', 'हाव', 'िया', 'क्या', 'है', '']\n",
      "\n",
      "\n"
     ]
    },
    {
     "name": "stderr",
     "output_type": "stream",
     "text": [
      "100%|██████████| 352/352 [00:26<00:00, 13.51it/s, epoch=39, loss=0.149]\n"
     ]
    },
    {
     "name": "stdout",
     "output_type": "stream",
     "text": [
      "-> Saving CheckPoint\n",
      "Example 1:\n",
      "another plant, the aluminium corporation of india, came into existence after the war.\n",
      "['एक', 'अन्य', 'भारतीय', 'लिप', 'ो', 'ऊ', 'त', ',', 'शिकार', 'ो', '-', 'को', 'च्छेद', 'न', ',', 'युद्ध', 'के', 'समान', 'फ', 'ंस', 'ों', '।', '']\n",
      "\n",
      "\n",
      "Example 2:\n",
      "He is doing very good these days\n",
      "['वह', 'बहुत', 'अच्छी', 'बात', 'कर', 'रहा', 'है', '']\n",
      "\n",
      "\n",
      "Example 3:\n",
      "this guy is totally mad\n",
      "['यह', 'प्रश्न', 'से', 'यह', 'विकल्प', 'काफी', 'है', '']\n",
      "\n",
      "\n",
      "Example 4:\n",
      "what were you saying that day?\n",
      "['और', 'तुम', 'को', 'क्या', 'माल', 'ूम', 'हाव', 'िया', 'क्या', 'है', '']\n",
      "\n",
      "\n"
     ]
    },
    {
     "name": "stderr",
     "output_type": "stream",
     "text": [
      "100%|██████████| 352/352 [00:26<00:00, 13.32it/s, epoch=40, loss=0.182] \n"
     ]
    },
    {
     "name": "stdout",
     "output_type": "stream",
     "text": [
      "-> Saving CheckPoint\n",
      "Example 1:\n",
      "another plant, the aluminium corporation of india, came into existence after the war.\n",
      "['एक', '्यु', ',', 'पृष्ठ', 'के', 'स्वी', 'त', 'में', 'कार', 'गर', 'सुन', 'कर', 'मिली', '-', 'म', 'िस', 'में', 'तार', 'का', 'एक', 'पदार्थ', '।', '']\n",
      "\n",
      "\n",
      "Example 2:\n",
      "He is doing very good these days\n",
      "['वह', 'बहुत', 'अच्छी', 'तरह', 'से', 'अ', 'ता', 'हुआ', 'है', '']\n",
      "\n",
      "\n",
      "Example 3:\n",
      "this guy is totally mad\n",
      "['यह', 'हमारी', 'मूलभूत', 'कार्यों', 'को', 'स्', 'मे', 'री', 'है', '']\n",
      "\n",
      "\n",
      "Example 4:\n",
      "what were you saying that day?\n",
      "['तुम्', 'ह', 'ें', 'क्या', 'था', 'कि', 'क्या', 'वह', 'दिन', '?', '']\n",
      "\n",
      "\n"
     ]
    },
    {
     "name": "stderr",
     "output_type": "stream",
     "text": [
      "100%|██████████| 352/352 [00:26<00:00, 13.14it/s, epoch=41, loss=0.127]\n"
     ]
    },
    {
     "name": "stdout",
     "output_type": "stream",
     "text": [
      "-> Saving CheckPoint\n",
      "Example 1:\n",
      "another plant, the aluminium corporation of india, came into existence after the war.\n",
      "['एक', 'और', 'कलाकार', ',', 'अंड', 'ू', 'तन', 'में', ',', 'कार', 'गर', 'ो', 'लाई', 'दिखाई', 'पड़ता', 'है', '।', '']\n",
      "\n",
      "\n",
      "Example 2:\n",
      "He is doing very good these days\n",
      "['वह', 'बहुत', 'ही', 'ध्यान', 'से', 'था', '।', '']\n",
      "\n",
      "\n",
      "Example 3:\n",
      "this guy is totally mad\n",
      "['यह', 'सीमा', 'यह', 'उल्लेखनीय', 'की', 'आवश्यकता', 'है', '']\n",
      "\n",
      "\n",
      "Example 4:\n",
      "what were you saying that day?\n",
      "['कित', 'ने', 'तुम्', 'ह', 'ें', 'क्या', 'था', '?', '']\n",
      "\n",
      "\n"
     ]
    },
    {
     "name": "stderr",
     "output_type": "stream",
     "text": [
      "100%|██████████| 352/352 [00:26<00:00, 13.26it/s, epoch=42, loss=0.195] \n"
     ]
    },
    {
     "name": "stdout",
     "output_type": "stream",
     "text": [
      "-> Saving CheckPoint\n",
      "Example 1:\n",
      "another plant, the aluminium corporation of india, came into existence after the war.\n",
      "['एक', 'और', 'श्रेणी', 'की', 'दूसरी', 'लाल', 'म', 'िय', ',', 'ल', 'ूट', 'सैल', 'ू', 'क्स', 'में', 'एक', 'अन्य', 'ख', 'ज', 'ते', 'हैं', '।', '']\n",
      "\n",
      "\n",
      "Example 2:\n",
      "He is doing very good these days\n",
      "['वह', 'बहुत', 'अच्छी', 'चीज', 'ें', 'है', ',', '']\n",
      "\n",
      "\n",
      "Example 3:\n",
      "this guy is totally mad\n",
      "['यह', 'घटक', 'यह', 'विकल्प', 'काफी', 'स्थान', 'है', '']\n",
      "\n",
      "\n",
      "Example 4:\n",
      "what were you saying that day?\n",
      "['व', 'दिन', 'तुम', 'उस', 'दिन', 'कित', 'ने', 'उस', 'दिन', '-', 'क्या', '']\n",
      "\n",
      "\n"
     ]
    },
    {
     "name": "stderr",
     "output_type": "stream",
     "text": [
      " 28%|██▊       | 98/352 [00:07<00:19, 13.33it/s, epoch=43, loss=0.119] \n"
     ]
    },
    {
     "ename": "KeyboardInterrupt",
     "evalue": "",
     "output_type": "error",
     "traceback": [
      "\u001b[1;31m---------------------------------------------------------------------------\u001b[0m",
      "\u001b[1;31mKeyboardInterrupt\u001b[0m                         Traceback (most recent call last)",
      "Cell \u001b[1;32mIn[31], line 4\u001b[0m\n\u001b[0;32m      2\u001b[0m \u001b[38;5;28;01mfor\u001b[39;00m epoch \u001b[38;5;129;01min\u001b[39;00m \u001b[38;5;28mrange\u001b[39m(num_epochs):\n\u001b[0;32m      3\u001b[0m     model\u001b[38;5;241m.\u001b[39mtrain()\n\u001b[1;32m----> 4\u001b[0m     losses\u001b[38;5;241m.\u001b[39mappend(\u001b[43mtrain\u001b[49m\u001b[43m(\u001b[49m\u001b[43mtrain_loader\u001b[49m\u001b[43m,\u001b[49m\u001b[43m \u001b[49m\u001b[43mmodel\u001b[49m\u001b[43m,\u001b[49m\u001b[43m \u001b[49m\u001b[43moptimizer\u001b[49m\u001b[43m,\u001b[49m\u001b[43m \u001b[49m\u001b[43mscaler\u001b[49m\u001b[43m,\u001b[49m\u001b[43m \u001b[49m\u001b[43mscheduler\u001b[49m\u001b[43m,\u001b[49m\u001b[43m \u001b[49m\u001b[43mloss_fn\u001b[49m\u001b[43m,\u001b[49m\u001b[43m \u001b[49m\u001b[43mepoch\u001b[49m\u001b[43m)\u001b[49m)\n\u001b[0;32m      6\u001b[0m     \u001b[38;5;66;03m# save checkpoint\u001b[39;00m\n\u001b[0;32m      7\u001b[0m     checkpoint \u001b[38;5;241m=\u001b[39m {\n\u001b[0;32m      8\u001b[0m         \u001b[38;5;124m'\u001b[39m\u001b[38;5;124mstate_dict\u001b[39m\u001b[38;5;124m'\u001b[39m: model\u001b[38;5;241m.\u001b[39mstate_dict(),\n\u001b[0;32m      9\u001b[0m         \u001b[38;5;124m'\u001b[39m\u001b[38;5;124moptimizer\u001b[39m\u001b[38;5;124m'\u001b[39m:optimizer\u001b[38;5;241m.\u001b[39mstate_dict()\n\u001b[0;32m     10\u001b[0m     }\n",
      "Cell \u001b[1;32mIn[22], line 28\u001b[0m, in \u001b[0;36mtrain\u001b[1;34m(loader, model, optimizer, scaler, scheduler, loss_fn, epoch, device)\u001b[0m\n\u001b[0;32m     26\u001b[0m     scaler\u001b[38;5;241m.\u001b[39mstep(optimizer)\n\u001b[0;32m     27\u001b[0m     scaler\u001b[38;5;241m.\u001b[39mupdate()\n\u001b[1;32m---> 28\u001b[0m     batches\u001b[38;5;241m.\u001b[39mset_postfix(loss \u001b[38;5;241m=\u001b[39m \u001b[43mloss\u001b[49m\u001b[38;5;241;43m.\u001b[39;49m\u001b[43mitem\u001b[49m\u001b[43m(\u001b[49m\u001b[43m)\u001b[49m, epoch\u001b[38;5;241m=\u001b[39mepoch) \u001b[38;5;66;03m# loss of this current batch on current iteration \u001b[39;00m\n\u001b[0;32m     29\u001b[0m     losses\u001b[38;5;241m+\u001b[39m\u001b[38;5;241m=\u001b[39m loss\u001b[38;5;241m.\u001b[39mitem()\n\u001b[0;32m     31\u001b[0m losses\u001b[38;5;241m/\u001b[39m\u001b[38;5;241m=\u001b[39mnum_batches    \n",
      "\u001b[1;31mKeyboardInterrupt\u001b[0m: "
     ]
    }
   ],
   "source": [
    "# training\n",
    "for epoch in range(num_epochs):\n",
    "    model.train()\n",
    "    losses.append(train(train_loader, model, optimizer, scaler, scheduler, loss_fn, epoch))\n",
    "    \n",
    "    # save checkpoint\n",
    "    checkpoint = {\n",
    "        'state_dict': model.state_dict(),\n",
    "        'optimizer':optimizer.state_dict()\n",
    "    }\n",
    "    save_checkpoint(checkpoint)\n",
    "    \n",
    "    # check accuracy  on test set\n",
    "    infer(sentences, model, max_seq_len)"
   ]
  },
  {
   "cell_type": "code",
   "execution_count": null,
   "id": "96eab466-0b8a-449c-82d4-1d9f4febd5e9",
   "metadata": {},
   "outputs": [],
   "source": []
  },
  {
   "cell_type": "code",
   "execution_count": null,
   "id": "94aecf03-775a-4ed2-92af-6c23d12ced49",
   "metadata": {},
   "outputs": [],
   "source": []
  }
 ],
 "metadata": {
  "kernelspec": {
   "display_name": "jainproject",
   "language": "python",
   "name": "jainproject"
  },
  "language_info": {
   "codemirror_mode": {
    "name": "ipython",
    "version": 3
   },
   "file_extension": ".py",
   "mimetype": "text/x-python",
   "name": "python",
   "nbconvert_exporter": "python",
   "pygments_lexer": "ipython3",
   "version": "3.9.18"
  }
 },
 "nbformat": 4,
 "nbformat_minor": 5
}
